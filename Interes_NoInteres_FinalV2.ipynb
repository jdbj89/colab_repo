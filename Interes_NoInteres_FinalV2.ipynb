{
  "nbformat": 4,
  "nbformat_minor": 0,
  "metadata": {
    "colab": {
      "provenance": [],
      "authorship_tag": "ABX9TyMvrAk7CEbhPUK62HWOUHuA",
      "include_colab_link": true
    },
    "kernelspec": {
      "name": "python3",
      "display_name": "Python 3"
    },
    "language_info": {
      "name": "python"
    },
    "widgets": {
      "application/vnd.jupyter.widget-state+json": {
        "e747176f2f11427193ba51044631e550": {
          "model_module": "@jupyter-widgets/controls",
          "model_name": "HBoxModel",
          "state": {
            "_view_name": "HBoxView",
            "_dom_classes": [],
            "_model_name": "HBoxModel",
            "_view_module": "@jupyter-widgets/controls",
            "_model_module_version": "1.5.0",
            "_view_count": null,
            "_view_module_version": "1.5.0",
            "box_style": "",
            "layout": "IPY_MODEL_218226bc454a420cb2ff7e7f283a48fd",
            "_model_module": "@jupyter-widgets/controls",
            "children": [
              "IPY_MODEL_9cc95e812c7b4b3f8e9ed787cfabb28d",
              "IPY_MODEL_12906c3359664330af6693e17a87ff19"
            ]
          },
          "model_module_version": "1.5.0"
        },
        "218226bc454a420cb2ff7e7f283a48fd": {
          "model_module": "@jupyter-widgets/base",
          "model_name": "LayoutModel",
          "state": {
            "_view_name": "LayoutView",
            "grid_template_rows": null,
            "right": null,
            "justify_content": null,
            "_view_module": "@jupyter-widgets/base",
            "overflow": null,
            "_model_module_version": "1.2.0",
            "_view_count": null,
            "flex_flow": null,
            "width": null,
            "min_width": null,
            "border": null,
            "align_items": null,
            "bottom": null,
            "_model_module": "@jupyter-widgets/base",
            "top": null,
            "grid_column": null,
            "overflow_y": null,
            "overflow_x": null,
            "grid_auto_flow": null,
            "grid_area": null,
            "grid_template_columns": null,
            "flex": null,
            "_model_name": "LayoutModel",
            "justify_items": null,
            "grid_row": null,
            "max_height": null,
            "align_content": null,
            "visibility": null,
            "align_self": null,
            "height": null,
            "min_height": null,
            "padding": null,
            "grid_auto_rows": null,
            "grid_gap": null,
            "max_width": null,
            "order": null,
            "_view_module_version": "1.2.0",
            "grid_template_areas": null,
            "object_position": null,
            "object_fit": null,
            "grid_auto_columns": null,
            "margin": null,
            "display": null,
            "left": null
          },
          "model_module_version": "1.2.0"
        },
        "9cc95e812c7b4b3f8e9ed787cfabb28d": {
          "model_module": "@jupyter-widgets/controls",
          "model_name": "FloatProgressModel",
          "state": {
            "_view_name": "ProgressView",
            "style": "IPY_MODEL_438dc5a16d164ff79e41490b392ba4dd",
            "_dom_classes": [],
            "description": "Downloading: ",
            "_model_name": "FloatProgressModel",
            "bar_style": "success",
            "max": 1630,
            "_view_module": "@jupyter-widgets/controls",
            "_model_module_version": "1.5.0",
            "value": 1630,
            "_view_count": null,
            "_view_module_version": "1.5.0",
            "orientation": "horizontal",
            "min": 0,
            "description_tooltip": null,
            "_model_module": "@jupyter-widgets/controls",
            "layout": "IPY_MODEL_3355ad9cf7f849049b40b4df1f480c3c"
          },
          "model_module_version": "1.5.0"
        },
        "12906c3359664330af6693e17a87ff19": {
          "model_module": "@jupyter-widgets/controls",
          "model_name": "HTMLModel",
          "state": {
            "_view_name": "HTMLView",
            "style": "IPY_MODEL_b7cfe23562aa404fa2eca0eee7ecb57b",
            "_dom_classes": [],
            "description": "",
            "_model_name": "HTMLModel",
            "placeholder": "​",
            "_view_module": "@jupyter-widgets/controls",
            "_model_module_version": "1.5.0",
            "value": " 4.55k/? [00:01&lt;00:00, 2.36kB/s]",
            "_view_count": null,
            "_view_module_version": "1.5.0",
            "description_tooltip": null,
            "_model_module": "@jupyter-widgets/controls",
            "layout": "IPY_MODEL_8a9efd4a0c86429bb0199e12d6214ec2"
          },
          "model_module_version": "1.5.0"
        },
        "438dc5a16d164ff79e41490b392ba4dd": {
          "model_module": "@jupyter-widgets/controls",
          "model_name": "ProgressStyleModel",
          "state": {
            "_view_name": "StyleView",
            "_model_name": "ProgressStyleModel",
            "description_width": "initial",
            "_view_module": "@jupyter-widgets/base",
            "_model_module_version": "1.5.0",
            "_view_count": null,
            "_view_module_version": "1.2.0",
            "bar_color": null,
            "_model_module": "@jupyter-widgets/controls"
          },
          "model_module_version": "1.5.0"
        },
        "3355ad9cf7f849049b40b4df1f480c3c": {
          "model_module": "@jupyter-widgets/base",
          "model_name": "LayoutModel",
          "state": {
            "_view_name": "LayoutView",
            "grid_template_rows": null,
            "right": null,
            "justify_content": null,
            "_view_module": "@jupyter-widgets/base",
            "overflow": null,
            "_model_module_version": "1.2.0",
            "_view_count": null,
            "flex_flow": null,
            "width": null,
            "min_width": null,
            "border": null,
            "align_items": null,
            "bottom": null,
            "_model_module": "@jupyter-widgets/base",
            "top": null,
            "grid_column": null,
            "overflow_y": null,
            "overflow_x": null,
            "grid_auto_flow": null,
            "grid_area": null,
            "grid_template_columns": null,
            "flex": null,
            "_model_name": "LayoutModel",
            "justify_items": null,
            "grid_row": null,
            "max_height": null,
            "align_content": null,
            "visibility": null,
            "align_self": null,
            "height": null,
            "min_height": null,
            "padding": null,
            "grid_auto_rows": null,
            "grid_gap": null,
            "max_width": null,
            "order": null,
            "_view_module_version": "1.2.0",
            "grid_template_areas": null,
            "object_position": null,
            "object_fit": null,
            "grid_auto_columns": null,
            "margin": null,
            "display": null,
            "left": null
          },
          "model_module_version": "1.2.0"
        },
        "b7cfe23562aa404fa2eca0eee7ecb57b": {
          "model_module": "@jupyter-widgets/controls",
          "model_name": "DescriptionStyleModel",
          "state": {
            "_view_name": "StyleView",
            "_model_name": "DescriptionStyleModel",
            "description_width": "",
            "_view_module": "@jupyter-widgets/base",
            "_model_module_version": "1.5.0",
            "_view_count": null,
            "_view_module_version": "1.2.0",
            "_model_module": "@jupyter-widgets/controls"
          },
          "model_module_version": "1.5.0"
        },
        "8a9efd4a0c86429bb0199e12d6214ec2": {
          "model_module": "@jupyter-widgets/base",
          "model_name": "LayoutModel",
          "state": {
            "_view_name": "LayoutView",
            "grid_template_rows": null,
            "right": null,
            "justify_content": null,
            "_view_module": "@jupyter-widgets/base",
            "overflow": null,
            "_model_module_version": "1.2.0",
            "_view_count": null,
            "flex_flow": null,
            "width": null,
            "min_width": null,
            "border": null,
            "align_items": null,
            "bottom": null,
            "_model_module": "@jupyter-widgets/base",
            "top": null,
            "grid_column": null,
            "overflow_y": null,
            "overflow_x": null,
            "grid_auto_flow": null,
            "grid_area": null,
            "grid_template_columns": null,
            "flex": null,
            "_model_name": "LayoutModel",
            "justify_items": null,
            "grid_row": null,
            "max_height": null,
            "align_content": null,
            "visibility": null,
            "align_self": null,
            "height": null,
            "min_height": null,
            "padding": null,
            "grid_auto_rows": null,
            "grid_gap": null,
            "max_width": null,
            "order": null,
            "_view_module_version": "1.2.0",
            "grid_template_areas": null,
            "object_position": null,
            "object_fit": null,
            "grid_auto_columns": null,
            "margin": null,
            "display": null,
            "left": null
          },
          "model_module_version": "1.2.0"
        },
        "53c8b4d316ed41dda689f4b7f46b9bb1": {
          "model_module": "@jupyter-widgets/controls",
          "model_name": "HBoxModel",
          "state": {
            "_view_name": "HBoxView",
            "_dom_classes": [],
            "_model_name": "HBoxModel",
            "_view_module": "@jupyter-widgets/controls",
            "_model_module_version": "1.5.0",
            "_view_count": null,
            "_view_module_version": "1.5.0",
            "box_style": "",
            "layout": "IPY_MODEL_0e0e55b0b1b045d5a0ca85f55bb12e45",
            "_model_module": "@jupyter-widgets/controls",
            "children": [
              "IPY_MODEL_c18f4dc094784540b2cb517db5bccf6d",
              "IPY_MODEL_045a7fcff5fb47be99ad0d91d251adfd"
            ]
          },
          "model_module_version": "1.5.0"
        },
        "0e0e55b0b1b045d5a0ca85f55bb12e45": {
          "model_module": "@jupyter-widgets/base",
          "model_name": "LayoutModel",
          "state": {
            "_view_name": "LayoutView",
            "grid_template_rows": null,
            "right": null,
            "justify_content": null,
            "_view_module": "@jupyter-widgets/base",
            "overflow": null,
            "_model_module_version": "1.2.0",
            "_view_count": null,
            "flex_flow": null,
            "width": null,
            "min_width": null,
            "border": null,
            "align_items": null,
            "bottom": null,
            "_model_module": "@jupyter-widgets/base",
            "top": null,
            "grid_column": null,
            "overflow_y": null,
            "overflow_x": null,
            "grid_auto_flow": null,
            "grid_area": null,
            "grid_template_columns": null,
            "flex": null,
            "_model_name": "LayoutModel",
            "justify_items": null,
            "grid_row": null,
            "max_height": null,
            "align_content": null,
            "visibility": null,
            "align_self": null,
            "height": null,
            "min_height": null,
            "padding": null,
            "grid_auto_rows": null,
            "grid_gap": null,
            "max_width": null,
            "order": null,
            "_view_module_version": "1.2.0",
            "grid_template_areas": null,
            "object_position": null,
            "object_fit": null,
            "grid_auto_columns": null,
            "margin": null,
            "display": null,
            "left": null
          },
          "model_module_version": "1.2.0"
        },
        "c18f4dc094784540b2cb517db5bccf6d": {
          "model_module": "@jupyter-widgets/controls",
          "model_name": "FloatProgressModel",
          "state": {
            "_view_name": "ProgressView",
            "style": "IPY_MODEL_5b9ac81537994a3c9848471b4482290c",
            "_dom_classes": [],
            "description": "Downloading: ",
            "_model_name": "FloatProgressModel",
            "bar_style": "success",
            "max": 2199,
            "_view_module": "@jupyter-widgets/controls",
            "_model_module_version": "1.5.0",
            "value": 2199,
            "_view_count": null,
            "_view_module_version": "1.5.0",
            "orientation": "horizontal",
            "min": 0,
            "description_tooltip": null,
            "_model_module": "@jupyter-widgets/controls",
            "layout": "IPY_MODEL_717d27798fcf4768a106962c48953a2e"
          },
          "model_module_version": "1.5.0"
        },
        "045a7fcff5fb47be99ad0d91d251adfd": {
          "model_module": "@jupyter-widgets/controls",
          "model_name": "HTMLModel",
          "state": {
            "_view_name": "HTMLView",
            "style": "IPY_MODEL_fc25fcb6dcf845f98d18dba07b0b1df1",
            "_dom_classes": [],
            "description": "",
            "_model_name": "HTMLModel",
            "placeholder": "​",
            "_view_module": "@jupyter-widgets/controls",
            "_model_module_version": "1.5.0",
            "value": " 12.5k/? [00:01&lt;00:00, 7.52kB/s]",
            "_view_count": null,
            "_view_module_version": "1.5.0",
            "description_tooltip": null,
            "_model_module": "@jupyter-widgets/controls",
            "layout": "IPY_MODEL_ade3bf1b80df4d718630d08f7141b03b"
          },
          "model_module_version": "1.5.0"
        },
        "5b9ac81537994a3c9848471b4482290c": {
          "model_module": "@jupyter-widgets/controls",
          "model_name": "ProgressStyleModel",
          "state": {
            "_view_name": "StyleView",
            "_model_name": "ProgressStyleModel",
            "description_width": "initial",
            "_view_module": "@jupyter-widgets/base",
            "_model_module_version": "1.5.0",
            "_view_count": null,
            "_view_module_version": "1.2.0",
            "bar_color": null,
            "_model_module": "@jupyter-widgets/controls"
          },
          "model_module_version": "1.5.0"
        },
        "717d27798fcf4768a106962c48953a2e": {
          "model_module": "@jupyter-widgets/base",
          "model_name": "LayoutModel",
          "state": {
            "_view_name": "LayoutView",
            "grid_template_rows": null,
            "right": null,
            "justify_content": null,
            "_view_module": "@jupyter-widgets/base",
            "overflow": null,
            "_model_module_version": "1.2.0",
            "_view_count": null,
            "flex_flow": null,
            "width": null,
            "min_width": null,
            "border": null,
            "align_items": null,
            "bottom": null,
            "_model_module": "@jupyter-widgets/base",
            "top": null,
            "grid_column": null,
            "overflow_y": null,
            "overflow_x": null,
            "grid_auto_flow": null,
            "grid_area": null,
            "grid_template_columns": null,
            "flex": null,
            "_model_name": "LayoutModel",
            "justify_items": null,
            "grid_row": null,
            "max_height": null,
            "align_content": null,
            "visibility": null,
            "align_self": null,
            "height": null,
            "min_height": null,
            "padding": null,
            "grid_auto_rows": null,
            "grid_gap": null,
            "max_width": null,
            "order": null,
            "_view_module_version": "1.2.0",
            "grid_template_areas": null,
            "object_position": null,
            "object_fit": null,
            "grid_auto_columns": null,
            "margin": null,
            "display": null,
            "left": null
          },
          "model_module_version": "1.2.0"
        },
        "fc25fcb6dcf845f98d18dba07b0b1df1": {
          "model_module": "@jupyter-widgets/controls",
          "model_name": "DescriptionStyleModel",
          "state": {
            "_view_name": "StyleView",
            "_model_name": "DescriptionStyleModel",
            "description_width": "",
            "_view_module": "@jupyter-widgets/base",
            "_model_module_version": "1.5.0",
            "_view_count": null,
            "_view_module_version": "1.2.0",
            "_model_module": "@jupyter-widgets/controls"
          },
          "model_module_version": "1.5.0"
        },
        "ade3bf1b80df4d718630d08f7141b03b": {
          "model_module": "@jupyter-widgets/base",
          "model_name": "LayoutModel",
          "state": {
            "_view_name": "LayoutView",
            "grid_template_rows": null,
            "right": null,
            "justify_content": null,
            "_view_module": "@jupyter-widgets/base",
            "overflow": null,
            "_model_module_version": "1.2.0",
            "_view_count": null,
            "flex_flow": null,
            "width": null,
            "min_width": null,
            "border": null,
            "align_items": null,
            "bottom": null,
            "_model_module": "@jupyter-widgets/base",
            "top": null,
            "grid_column": null,
            "overflow_y": null,
            "overflow_x": null,
            "grid_auto_flow": null,
            "grid_area": null,
            "grid_template_columns": null,
            "flex": null,
            "_model_name": "LayoutModel",
            "justify_items": null,
            "grid_row": null,
            "max_height": null,
            "align_content": null,
            "visibility": null,
            "align_self": null,
            "height": null,
            "min_height": null,
            "padding": null,
            "grid_auto_rows": null,
            "grid_gap": null,
            "max_width": null,
            "order": null,
            "_view_module_version": "1.2.0",
            "grid_template_areas": null,
            "object_position": null,
            "object_fit": null,
            "grid_auto_columns": null,
            "margin": null,
            "display": null,
            "left": null
          },
          "model_module_version": "1.2.0"
        },
        "f0b5bfa558a440e3bd794c5c11d3c885": {
          "model_module": "@jupyter-widgets/controls",
          "model_name": "HBoxModel",
          "state": {
            "_view_name": "HBoxView",
            "_dom_classes": [],
            "_model_name": "HBoxModel",
            "_view_module": "@jupyter-widgets/controls",
            "_model_module_version": "1.5.0",
            "_view_count": null,
            "_view_module_version": "1.5.0",
            "box_style": "",
            "layout": "IPY_MODEL_e0e4b23233064e6196c9d13e4793470f",
            "_model_module": "@jupyter-widgets/controls",
            "children": [
              "IPY_MODEL_35943998fac24fd18556fd9411875182",
              "IPY_MODEL_1b57c32665fa461ca1fad6cddb15698d"
            ]
          },
          "model_module_version": "1.5.0"
        },
        "e0e4b23233064e6196c9d13e4793470f": {
          "model_module": "@jupyter-widgets/base",
          "model_name": "LayoutModel",
          "state": {
            "_view_name": "LayoutView",
            "grid_template_rows": null,
            "right": null,
            "justify_content": null,
            "_view_module": "@jupyter-widgets/base",
            "overflow": null,
            "_model_module_version": "1.2.0",
            "_view_count": null,
            "flex_flow": null,
            "width": null,
            "min_width": null,
            "border": null,
            "align_items": null,
            "bottom": null,
            "_model_module": "@jupyter-widgets/base",
            "top": null,
            "grid_column": null,
            "overflow_y": null,
            "overflow_x": null,
            "grid_auto_flow": null,
            "grid_area": null,
            "grid_template_columns": null,
            "flex": null,
            "_model_name": "LayoutModel",
            "justify_items": null,
            "grid_row": null,
            "max_height": null,
            "align_content": null,
            "visibility": null,
            "align_self": null,
            "height": null,
            "min_height": null,
            "padding": null,
            "grid_auto_rows": null,
            "grid_gap": null,
            "max_width": null,
            "order": null,
            "_view_module_version": "1.2.0",
            "grid_template_areas": null,
            "object_position": null,
            "object_fit": null,
            "grid_auto_columns": null,
            "margin": null,
            "display": null,
            "left": null
          },
          "model_module_version": "1.2.0"
        },
        "35943998fac24fd18556fd9411875182": {
          "model_module": "@jupyter-widgets/controls",
          "model_name": "FloatProgressModel",
          "state": {
            "_view_name": "ProgressView",
            "style": "IPY_MODEL_d697a0c1363b426fbb222c0d4c04eb9c",
            "_dom_classes": [],
            "description": "Downloading: 100%",
            "_model_name": "FloatProgressModel",
            "bar_style": "success",
            "max": 27386169,
            "_view_module": "@jupyter-widgets/controls",
            "_model_module_version": "1.5.0",
            "value": 27386169,
            "_view_count": null,
            "_view_module_version": "1.5.0",
            "orientation": "horizontal",
            "min": 0,
            "description_tooltip": null,
            "_model_module": "@jupyter-widgets/controls",
            "layout": "IPY_MODEL_6e2003591b4a49f5b8f504cf0e2db887"
          },
          "model_module_version": "1.5.0"
        },
        "1b57c32665fa461ca1fad6cddb15698d": {
          "model_module": "@jupyter-widgets/controls",
          "model_name": "HTMLModel",
          "state": {
            "_view_name": "HTMLView",
            "style": "IPY_MODEL_5d5b707fe5aa49f29f36ec185e0986ba",
            "_dom_classes": [],
            "description": "",
            "_model_name": "HTMLModel",
            "placeholder": "​",
            "_view_module": "@jupyter-widgets/controls",
            "_model_module_version": "1.5.0",
            "value": " 27.4M/27.4M [00:24&lt;00:00, 1.11MB/s]",
            "_view_count": null,
            "_view_module_version": "1.5.0",
            "description_tooltip": null,
            "_model_module": "@jupyter-widgets/controls",
            "layout": "IPY_MODEL_a804b2ef520d4b499ad9b93586006938"
          },
          "model_module_version": "1.5.0"
        },
        "d697a0c1363b426fbb222c0d4c04eb9c": {
          "model_module": "@jupyter-widgets/controls",
          "model_name": "ProgressStyleModel",
          "state": {
            "_view_name": "StyleView",
            "_model_name": "ProgressStyleModel",
            "description_width": "initial",
            "_view_module": "@jupyter-widgets/base",
            "_model_module_version": "1.5.0",
            "_view_count": null,
            "_view_module_version": "1.2.0",
            "bar_color": null,
            "_model_module": "@jupyter-widgets/controls"
          },
          "model_module_version": "1.5.0"
        },
        "6e2003591b4a49f5b8f504cf0e2db887": {
          "model_module": "@jupyter-widgets/base",
          "model_name": "LayoutModel",
          "state": {
            "_view_name": "LayoutView",
            "grid_template_rows": null,
            "right": null,
            "justify_content": null,
            "_view_module": "@jupyter-widgets/base",
            "overflow": null,
            "_model_module_version": "1.2.0",
            "_view_count": null,
            "flex_flow": null,
            "width": null,
            "min_width": null,
            "border": null,
            "align_items": null,
            "bottom": null,
            "_model_module": "@jupyter-widgets/base",
            "top": null,
            "grid_column": null,
            "overflow_y": null,
            "overflow_x": null,
            "grid_auto_flow": null,
            "grid_area": null,
            "grid_template_columns": null,
            "flex": null,
            "_model_name": "LayoutModel",
            "justify_items": null,
            "grid_row": null,
            "max_height": null,
            "align_content": null,
            "visibility": null,
            "align_self": null,
            "height": null,
            "min_height": null,
            "padding": null,
            "grid_auto_rows": null,
            "grid_gap": null,
            "max_width": null,
            "order": null,
            "_view_module_version": "1.2.0",
            "grid_template_areas": null,
            "object_position": null,
            "object_fit": null,
            "grid_auto_columns": null,
            "margin": null,
            "display": null,
            "left": null
          },
          "model_module_version": "1.2.0"
        },
        "5d5b707fe5aa49f29f36ec185e0986ba": {
          "model_module": "@jupyter-widgets/controls",
          "model_name": "DescriptionStyleModel",
          "state": {
            "_view_name": "StyleView",
            "_model_name": "DescriptionStyleModel",
            "description_width": "",
            "_view_module": "@jupyter-widgets/base",
            "_model_module_version": "1.5.0",
            "_view_count": null,
            "_view_module_version": "1.2.0",
            "_model_module": "@jupyter-widgets/controls"
          },
          "model_module_version": "1.5.0"
        },
        "a804b2ef520d4b499ad9b93586006938": {
          "model_module": "@jupyter-widgets/base",
          "model_name": "LayoutModel",
          "state": {
            "_view_name": "LayoutView",
            "grid_template_rows": null,
            "right": null,
            "justify_content": null,
            "_view_module": "@jupyter-widgets/base",
            "overflow": null,
            "_model_module_version": "1.2.0",
            "_view_count": null,
            "flex_flow": null,
            "width": null,
            "min_width": null,
            "border": null,
            "align_items": null,
            "bottom": null,
            "_model_module": "@jupyter-widgets/base",
            "top": null,
            "grid_column": null,
            "overflow_y": null,
            "overflow_x": null,
            "grid_auto_flow": null,
            "grid_area": null,
            "grid_template_columns": null,
            "flex": null,
            "_model_name": "LayoutModel",
            "justify_items": null,
            "grid_row": null,
            "max_height": null,
            "align_content": null,
            "visibility": null,
            "align_self": null,
            "height": null,
            "min_height": null,
            "padding": null,
            "grid_auto_rows": null,
            "grid_gap": null,
            "max_width": null,
            "order": null,
            "_view_module_version": "1.2.0",
            "grid_template_areas": null,
            "object_position": null,
            "object_fit": null,
            "grid_auto_columns": null,
            "margin": null,
            "display": null,
            "left": null
          },
          "model_module_version": "1.2.0"
        },
        "fe2ea1c3a93748bfb00b9b8067adc31e": {
          "model_module": "@jupyter-widgets/controls",
          "model_name": "HBoxModel",
          "state": {
            "_view_name": "HBoxView",
            "_dom_classes": [],
            "_model_name": "HBoxModel",
            "_view_module": "@jupyter-widgets/controls",
            "_model_module_version": "1.5.0",
            "_view_count": null,
            "_view_module_version": "1.5.0",
            "box_style": "",
            "layout": "IPY_MODEL_4b4184fa7d314ca4aa9ea111603dc75b",
            "_model_module": "@jupyter-widgets/controls",
            "children": [
              "IPY_MODEL_2c4dfc7008454e31b75d592bc454bcb8",
              "IPY_MODEL_fb7ea1a07e064f3fa15373d19d60820b"
            ]
          },
          "model_module_version": "1.5.0"
        },
        "4b4184fa7d314ca4aa9ea111603dc75b": {
          "model_module": "@jupyter-widgets/base",
          "model_name": "LayoutModel",
          "state": {
            "_view_name": "LayoutView",
            "grid_template_rows": null,
            "right": null,
            "justify_content": null,
            "_view_module": "@jupyter-widgets/base",
            "overflow": null,
            "_model_module_version": "1.2.0",
            "_view_count": null,
            "flex_flow": null,
            "width": null,
            "min_width": null,
            "border": null,
            "align_items": null,
            "bottom": null,
            "_model_module": "@jupyter-widgets/base",
            "top": null,
            "grid_column": null,
            "overflow_y": null,
            "overflow_x": null,
            "grid_auto_flow": null,
            "grid_area": null,
            "grid_template_columns": null,
            "flex": null,
            "_model_name": "LayoutModel",
            "justify_items": null,
            "grid_row": null,
            "max_height": null,
            "align_content": null,
            "visibility": null,
            "align_self": null,
            "height": null,
            "min_height": null,
            "padding": null,
            "grid_auto_rows": null,
            "grid_gap": null,
            "max_width": null,
            "order": null,
            "_view_module_version": "1.2.0",
            "grid_template_areas": null,
            "object_position": null,
            "object_fit": null,
            "grid_auto_columns": null,
            "margin": null,
            "display": null,
            "left": null
          },
          "model_module_version": "1.2.0"
        },
        "2c4dfc7008454e31b75d592bc454bcb8": {
          "model_module": "@jupyter-widgets/controls",
          "model_name": "FloatProgressModel",
          "state": {
            "_view_name": "ProgressView",
            "style": "IPY_MODEL_b96f0559d65f4980b7ac2d9224e62a5a",
            "_dom_classes": [],
            "description": "Downloading: 100%",
            "_model_name": "FloatProgressModel",
            "bar_style": "success",
            "max": 466443036,
            "_view_module": "@jupyter-widgets/controls",
            "_model_module_version": "1.5.0",
            "value": 466443036,
            "_view_count": null,
            "_view_module_version": "1.5.0",
            "orientation": "horizontal",
            "min": 0,
            "description_tooltip": null,
            "_model_module": "@jupyter-widgets/controls",
            "layout": "IPY_MODEL_804b354b95f24e50a5e55c06cae6c9ee"
          },
          "model_module_version": "1.5.0"
        },
        "fb7ea1a07e064f3fa15373d19d60820b": {
          "model_module": "@jupyter-widgets/controls",
          "model_name": "HTMLModel",
          "state": {
            "_view_name": "HTMLView",
            "style": "IPY_MODEL_a3e1a43e4f2148b1ac7f5d14963ee79f",
            "_dom_classes": [],
            "description": "",
            "_model_name": "HTMLModel",
            "placeholder": "​",
            "_view_module": "@jupyter-widgets/controls",
            "_model_module_version": "1.5.0",
            "value": " 466M/466M [00:19&lt;00:00, 23.4MB/s]",
            "_view_count": null,
            "_view_module_version": "1.5.0",
            "description_tooltip": null,
            "_model_module": "@jupyter-widgets/controls",
            "layout": "IPY_MODEL_f38252d5f78441b29decf898fa2e1778"
          },
          "model_module_version": "1.5.0"
        },
        "b96f0559d65f4980b7ac2d9224e62a5a": {
          "model_module": "@jupyter-widgets/controls",
          "model_name": "ProgressStyleModel",
          "state": {
            "_view_name": "StyleView",
            "_model_name": "ProgressStyleModel",
            "description_width": "initial",
            "_view_module": "@jupyter-widgets/base",
            "_model_module_version": "1.5.0",
            "_view_count": null,
            "_view_module_version": "1.2.0",
            "bar_color": null,
            "_model_module": "@jupyter-widgets/controls"
          },
          "model_module_version": "1.5.0"
        },
        "804b354b95f24e50a5e55c06cae6c9ee": {
          "model_module": "@jupyter-widgets/base",
          "model_name": "LayoutModel",
          "state": {
            "_view_name": "LayoutView",
            "grid_template_rows": null,
            "right": null,
            "justify_content": null,
            "_view_module": "@jupyter-widgets/base",
            "overflow": null,
            "_model_module_version": "1.2.0",
            "_view_count": null,
            "flex_flow": null,
            "width": null,
            "min_width": null,
            "border": null,
            "align_items": null,
            "bottom": null,
            "_model_module": "@jupyter-widgets/base",
            "top": null,
            "grid_column": null,
            "overflow_y": null,
            "overflow_x": null,
            "grid_auto_flow": null,
            "grid_area": null,
            "grid_template_columns": null,
            "flex": null,
            "_model_name": "LayoutModel",
            "justify_items": null,
            "grid_row": null,
            "max_height": null,
            "align_content": null,
            "visibility": null,
            "align_self": null,
            "height": null,
            "min_height": null,
            "padding": null,
            "grid_auto_rows": null,
            "grid_gap": null,
            "max_width": null,
            "order": null,
            "_view_module_version": "1.2.0",
            "grid_template_areas": null,
            "object_position": null,
            "object_fit": null,
            "grid_auto_columns": null,
            "margin": null,
            "display": null,
            "left": null
          },
          "model_module_version": "1.2.0"
        },
        "a3e1a43e4f2148b1ac7f5d14963ee79f": {
          "model_module": "@jupyter-widgets/controls",
          "model_name": "DescriptionStyleModel",
          "state": {
            "_view_name": "StyleView",
            "_model_name": "DescriptionStyleModel",
            "description_width": "",
            "_view_module": "@jupyter-widgets/base",
            "_model_module_version": "1.5.0",
            "_view_count": null,
            "_view_module_version": "1.2.0",
            "_model_module": "@jupyter-widgets/controls"
          },
          "model_module_version": "1.5.0"
        },
        "f38252d5f78441b29decf898fa2e1778": {
          "model_module": "@jupyter-widgets/base",
          "model_name": "LayoutModel",
          "state": {
            "_view_name": "LayoutView",
            "grid_template_rows": null,
            "right": null,
            "justify_content": null,
            "_view_module": "@jupyter-widgets/base",
            "overflow": null,
            "_model_module_version": "1.2.0",
            "_view_count": null,
            "flex_flow": null,
            "width": null,
            "min_width": null,
            "border": null,
            "align_items": null,
            "bottom": null,
            "_model_module": "@jupyter-widgets/base",
            "top": null,
            "grid_column": null,
            "overflow_y": null,
            "overflow_x": null,
            "grid_auto_flow": null,
            "grid_area": null,
            "grid_template_columns": null,
            "flex": null,
            "_model_name": "LayoutModel",
            "justify_items": null,
            "grid_row": null,
            "max_height": null,
            "align_content": null,
            "visibility": null,
            "align_self": null,
            "height": null,
            "min_height": null,
            "padding": null,
            "grid_auto_rows": null,
            "grid_gap": null,
            "max_width": null,
            "order": null,
            "_view_module_version": "1.2.0",
            "grid_template_areas": null,
            "object_position": null,
            "object_fit": null,
            "grid_auto_columns": null,
            "margin": null,
            "display": null,
            "left": null
          },
          "model_module_version": "1.2.0"
        },
        "b5f5c056e8644866bf1b2a536e7e516e": {
          "model_module": "@jupyter-widgets/controls",
          "model_name": "HBoxModel",
          "state": {
            "_view_name": "HBoxView",
            "_dom_classes": [],
            "_model_name": "HBoxModel",
            "_view_module": "@jupyter-widgets/controls",
            "_model_module_version": "1.5.0",
            "_view_count": null,
            "_view_module_version": "1.5.0",
            "box_style": "",
            "layout": "IPY_MODEL_eba1739034cc4016ba9032e8983e7fe7",
            "_model_module": "@jupyter-widgets/controls",
            "children": [
              "IPY_MODEL_4c59d45bf53e4d4b968496a3ebbd2979",
              "IPY_MODEL_6c415ef4a0a444919ac0b3d2e6acc668"
            ]
          },
          "model_module_version": "1.5.0"
        },
        "eba1739034cc4016ba9032e8983e7fe7": {
          "model_module": "@jupyter-widgets/base",
          "model_name": "LayoutModel",
          "state": {
            "_view_name": "LayoutView",
            "grid_template_rows": null,
            "right": null,
            "justify_content": null,
            "_view_module": "@jupyter-widgets/base",
            "overflow": null,
            "_model_module_version": "1.2.0",
            "_view_count": null,
            "flex_flow": null,
            "width": null,
            "min_width": null,
            "border": null,
            "align_items": null,
            "bottom": null,
            "_model_module": "@jupyter-widgets/base",
            "top": null,
            "grid_column": null,
            "overflow_y": null,
            "overflow_x": null,
            "grid_auto_flow": null,
            "grid_area": null,
            "grid_template_columns": null,
            "flex": null,
            "_model_name": "LayoutModel",
            "justify_items": null,
            "grid_row": null,
            "max_height": null,
            "align_content": null,
            "visibility": null,
            "align_self": null,
            "height": null,
            "min_height": null,
            "padding": null,
            "grid_auto_rows": null,
            "grid_gap": null,
            "max_width": null,
            "order": null,
            "_view_module_version": "1.2.0",
            "grid_template_areas": null,
            "object_position": null,
            "object_fit": null,
            "grid_auto_columns": null,
            "margin": null,
            "display": null,
            "left": null
          },
          "model_module_version": "1.2.0"
        },
        "4c59d45bf53e4d4b968496a3ebbd2979": {
          "model_module": "@jupyter-widgets/controls",
          "model_name": "FloatProgressModel",
          "state": {
            "_view_name": "ProgressView",
            "style": "IPY_MODEL_f93afc7ce6db40f6b168678f980d40ef",
            "_dom_classes": [],
            "description": "Downloading: 100%",
            "_model_name": "FloatProgressModel",
            "bar_style": "success",
            "max": 19483214,
            "_view_module": "@jupyter-widgets/controls",
            "_model_module_version": "1.5.0",
            "value": 19483214,
            "_view_count": null,
            "_view_module_version": "1.5.0",
            "orientation": "horizontal",
            "min": 0,
            "description_tooltip": null,
            "_model_module": "@jupyter-widgets/controls",
            "layout": "IPY_MODEL_ca6b958c10964cd98f34d9911fdd0971"
          },
          "model_module_version": "1.5.0"
        },
        "6c415ef4a0a444919ac0b3d2e6acc668": {
          "model_module": "@jupyter-widgets/controls",
          "model_name": "HTMLModel",
          "state": {
            "_view_name": "HTMLView",
            "style": "IPY_MODEL_f0fcb608d3194bc3a1dbd89c2e59d623",
            "_dom_classes": [],
            "description": "",
            "_model_name": "HTMLModel",
            "placeholder": "​",
            "_view_module": "@jupyter-widgets/controls",
            "_model_module_version": "1.5.0",
            "value": " 19.5M/19.5M [00:17&lt;00:00, 1.10MB/s]",
            "_view_count": null,
            "_view_module_version": "1.5.0",
            "description_tooltip": null,
            "_model_module": "@jupyter-widgets/controls",
            "layout": "IPY_MODEL_907ab2d51ede4e438e8ed57fa970c086"
          },
          "model_module_version": "1.5.0"
        },
        "f93afc7ce6db40f6b168678f980d40ef": {
          "model_module": "@jupyter-widgets/controls",
          "model_name": "ProgressStyleModel",
          "state": {
            "_view_name": "StyleView",
            "_model_name": "ProgressStyleModel",
            "description_width": "initial",
            "_view_module": "@jupyter-widgets/base",
            "_model_module_version": "1.5.0",
            "_view_count": null,
            "_view_module_version": "1.2.0",
            "bar_color": null,
            "_model_module": "@jupyter-widgets/controls"
          },
          "model_module_version": "1.5.0"
        },
        "ca6b958c10964cd98f34d9911fdd0971": {
          "model_module": "@jupyter-widgets/base",
          "model_name": "LayoutModel",
          "state": {
            "_view_name": "LayoutView",
            "grid_template_rows": null,
            "right": null,
            "justify_content": null,
            "_view_module": "@jupyter-widgets/base",
            "overflow": null,
            "_model_module_version": "1.2.0",
            "_view_count": null,
            "flex_flow": null,
            "width": null,
            "min_width": null,
            "border": null,
            "align_items": null,
            "bottom": null,
            "_model_module": "@jupyter-widgets/base",
            "top": null,
            "grid_column": null,
            "overflow_y": null,
            "overflow_x": null,
            "grid_auto_flow": null,
            "grid_area": null,
            "grid_template_columns": null,
            "flex": null,
            "_model_name": "LayoutModel",
            "justify_items": null,
            "grid_row": null,
            "max_height": null,
            "align_content": null,
            "visibility": null,
            "align_self": null,
            "height": null,
            "min_height": null,
            "padding": null,
            "grid_auto_rows": null,
            "grid_gap": null,
            "max_width": null,
            "order": null,
            "_view_module_version": "1.2.0",
            "grid_template_areas": null,
            "object_position": null,
            "object_fit": null,
            "grid_auto_columns": null,
            "margin": null,
            "display": null,
            "left": null
          },
          "model_module_version": "1.2.0"
        },
        "f0fcb608d3194bc3a1dbd89c2e59d623": {
          "model_module": "@jupyter-widgets/controls",
          "model_name": "DescriptionStyleModel",
          "state": {
            "_view_name": "StyleView",
            "_model_name": "DescriptionStyleModel",
            "description_width": "",
            "_view_module": "@jupyter-widgets/base",
            "_model_module_version": "1.5.0",
            "_view_count": null,
            "_view_module_version": "1.2.0",
            "_model_module": "@jupyter-widgets/controls"
          },
          "model_module_version": "1.5.0"
        },
        "907ab2d51ede4e438e8ed57fa970c086": {
          "model_module": "@jupyter-widgets/base",
          "model_name": "LayoutModel",
          "state": {
            "_view_name": "LayoutView",
            "grid_template_rows": null,
            "right": null,
            "justify_content": null,
            "_view_module": "@jupyter-widgets/base",
            "overflow": null,
            "_model_module_version": "1.2.0",
            "_view_count": null,
            "flex_flow": null,
            "width": null,
            "min_width": null,
            "border": null,
            "align_items": null,
            "bottom": null,
            "_model_module": "@jupyter-widgets/base",
            "top": null,
            "grid_column": null,
            "overflow_y": null,
            "overflow_x": null,
            "grid_auto_flow": null,
            "grid_area": null,
            "grid_template_columns": null,
            "flex": null,
            "_model_name": "LayoutModel",
            "justify_items": null,
            "grid_row": null,
            "max_height": null,
            "align_content": null,
            "visibility": null,
            "align_self": null,
            "height": null,
            "min_height": null,
            "padding": null,
            "grid_auto_rows": null,
            "grid_gap": null,
            "max_width": null,
            "order": null,
            "_view_module_version": "1.2.0",
            "grid_template_areas": null,
            "object_position": null,
            "object_fit": null,
            "grid_auto_columns": null,
            "margin": null,
            "display": null,
            "left": null
          },
          "model_module_version": "1.2.0"
        },
        "701954a0f8f34721b6c3c223dc0a5edd": {
          "model_module": "@jupyter-widgets/controls",
          "model_name": "HBoxModel",
          "state": {
            "_view_name": "HBoxView",
            "_dom_classes": [],
            "_model_name": "HBoxModel",
            "_view_module": "@jupyter-widgets/controls",
            "_model_module_version": "1.5.0",
            "_view_count": null,
            "_view_module_version": "1.5.0",
            "box_style": "",
            "layout": "IPY_MODEL_5ca03c169bff4b7a87f941de7c7905dc",
            "_model_module": "@jupyter-widgets/controls",
            "children": [
              "IPY_MODEL_d9e276a7e5e84022a4c2ada5a2797529",
              "IPY_MODEL_abfe5e2366e54ee3bdff4908d11c8612"
            ]
          },
          "model_module_version": "1.5.0"
        },
        "5ca03c169bff4b7a87f941de7c7905dc": {
          "model_module": "@jupyter-widgets/base",
          "model_name": "LayoutModel",
          "state": {
            "_view_name": "LayoutView",
            "grid_template_rows": null,
            "right": null,
            "justify_content": null,
            "_view_module": "@jupyter-widgets/base",
            "overflow": null,
            "_model_module_version": "1.2.0",
            "_view_count": null,
            "flex_flow": null,
            "width": null,
            "min_width": null,
            "border": null,
            "align_items": null,
            "bottom": null,
            "_model_module": "@jupyter-widgets/base",
            "top": null,
            "grid_column": null,
            "overflow_y": null,
            "overflow_x": null,
            "grid_auto_flow": null,
            "grid_area": null,
            "grid_template_columns": null,
            "flex": null,
            "_model_name": "LayoutModel",
            "justify_items": null,
            "grid_row": null,
            "max_height": null,
            "align_content": null,
            "visibility": null,
            "align_self": null,
            "height": null,
            "min_height": null,
            "padding": null,
            "grid_auto_rows": null,
            "grid_gap": null,
            "max_width": null,
            "order": null,
            "_view_module_version": "1.2.0",
            "grid_template_areas": null,
            "object_position": null,
            "object_fit": null,
            "grid_auto_columns": null,
            "margin": null,
            "display": null,
            "left": null
          },
          "model_module_version": "1.2.0"
        },
        "d9e276a7e5e84022a4c2ada5a2797529": {
          "model_module": "@jupyter-widgets/controls",
          "model_name": "FloatProgressModel",
          "state": {
            "_view_name": "ProgressView",
            "style": "IPY_MODEL_24fbc9a37bca4b239e2ec4c617356679",
            "_dom_classes": [],
            "description": "",
            "_model_name": "FloatProgressModel",
            "bar_style": "info",
            "max": 1,
            "_view_module": "@jupyter-widgets/controls",
            "_model_module_version": "1.5.0",
            "value": 1,
            "_view_count": null,
            "_view_module_version": "1.5.0",
            "orientation": "horizontal",
            "min": 0,
            "description_tooltip": null,
            "_model_module": "@jupyter-widgets/controls",
            "layout": "IPY_MODEL_5c906e68efb74036852c31c822f5d9c2"
          },
          "model_module_version": "1.5.0"
        },
        "abfe5e2366e54ee3bdff4908d11c8612": {
          "model_module": "@jupyter-widgets/controls",
          "model_name": "HTMLModel",
          "state": {
            "_view_name": "HTMLView",
            "style": "IPY_MODEL_045d04e44eca4253ba625f5999cf7649",
            "_dom_classes": [],
            "description": "",
            "_model_name": "HTMLModel",
            "placeholder": "​",
            "_view_module": "@jupyter-widgets/controls",
            "_model_module_version": "1.5.0",
            "value": " 266367/0 [00:36&lt;00:00, 8912.49 examples/s]",
            "_view_count": null,
            "_view_module_version": "1.5.0",
            "description_tooltip": null,
            "_model_module": "@jupyter-widgets/controls",
            "layout": "IPY_MODEL_ae20b79b8c1f427eb116ad1c0209dac0"
          },
          "model_module_version": "1.5.0"
        },
        "24fbc9a37bca4b239e2ec4c617356679": {
          "model_module": "@jupyter-widgets/controls",
          "model_name": "ProgressStyleModel",
          "state": {
            "_view_name": "StyleView",
            "_model_name": "ProgressStyleModel",
            "description_width": "initial",
            "_view_module": "@jupyter-widgets/base",
            "_model_module_version": "1.5.0",
            "_view_count": null,
            "_view_module_version": "1.2.0",
            "bar_color": null,
            "_model_module": "@jupyter-widgets/controls"
          },
          "model_module_version": "1.5.0"
        },
        "5c906e68efb74036852c31c822f5d9c2": {
          "model_module": "@jupyter-widgets/base",
          "model_name": "LayoutModel",
          "state": {
            "_view_name": "LayoutView",
            "grid_template_rows": null,
            "right": null,
            "justify_content": null,
            "_view_module": "@jupyter-widgets/base",
            "overflow": null,
            "_model_module_version": "1.2.0",
            "_view_count": null,
            "flex_flow": null,
            "width": null,
            "min_width": null,
            "border": null,
            "align_items": null,
            "bottom": null,
            "_model_module": "@jupyter-widgets/base",
            "top": null,
            "grid_column": null,
            "overflow_y": null,
            "overflow_x": null,
            "grid_auto_flow": null,
            "grid_area": null,
            "grid_template_columns": null,
            "flex": null,
            "_model_name": "LayoutModel",
            "justify_items": null,
            "grid_row": null,
            "max_height": null,
            "align_content": null,
            "visibility": null,
            "align_self": null,
            "height": null,
            "min_height": null,
            "padding": null,
            "grid_auto_rows": null,
            "grid_gap": null,
            "max_width": null,
            "order": null,
            "_view_module_version": "1.2.0",
            "grid_template_areas": null,
            "object_position": null,
            "object_fit": null,
            "grid_auto_columns": null,
            "margin": null,
            "display": null,
            "left": null
          },
          "model_module_version": "1.2.0"
        },
        "045d04e44eca4253ba625f5999cf7649": {
          "model_module": "@jupyter-widgets/controls",
          "model_name": "DescriptionStyleModel",
          "state": {
            "_view_name": "StyleView",
            "_model_name": "DescriptionStyleModel",
            "description_width": "",
            "_view_module": "@jupyter-widgets/base",
            "_model_module_version": "1.5.0",
            "_view_count": null,
            "_view_module_version": "1.2.0",
            "_model_module": "@jupyter-widgets/controls"
          },
          "model_module_version": "1.5.0"
        },
        "ae20b79b8c1f427eb116ad1c0209dac0": {
          "model_module": "@jupyter-widgets/base",
          "model_name": "LayoutModel",
          "state": {
            "_view_name": "LayoutView",
            "grid_template_rows": null,
            "right": null,
            "justify_content": null,
            "_view_module": "@jupyter-widgets/base",
            "overflow": null,
            "_model_module_version": "1.2.0",
            "_view_count": null,
            "flex_flow": null,
            "width": null,
            "min_width": null,
            "border": null,
            "align_items": null,
            "bottom": null,
            "_model_module": "@jupyter-widgets/base",
            "top": null,
            "grid_column": null,
            "overflow_y": null,
            "overflow_x": null,
            "grid_auto_flow": null,
            "grid_area": null,
            "grid_template_columns": null,
            "flex": null,
            "_model_name": "LayoutModel",
            "justify_items": null,
            "grid_row": null,
            "max_height": null,
            "align_content": null,
            "visibility": null,
            "align_self": null,
            "height": null,
            "min_height": null,
            "padding": null,
            "grid_auto_rows": null,
            "grid_gap": null,
            "max_width": null,
            "order": null,
            "_view_module_version": "1.2.0",
            "grid_template_areas": null,
            "object_position": null,
            "object_fit": null,
            "grid_auto_columns": null,
            "margin": null,
            "display": null,
            "left": null
          },
          "model_module_version": "1.2.0"
        },
        "d891ab014c094875b4be7f2517e43828": {
          "model_module": "@jupyter-widgets/controls",
          "model_name": "HBoxModel",
          "state": {
            "_view_name": "HBoxView",
            "_dom_classes": [],
            "_model_name": "HBoxModel",
            "_view_module": "@jupyter-widgets/controls",
            "_model_module_version": "1.5.0",
            "_view_count": null,
            "_view_module_version": "1.5.0",
            "box_style": "",
            "layout": "IPY_MODEL_d38c40aff80640ab8ce7e3195afa566a",
            "_model_module": "@jupyter-widgets/controls",
            "children": [
              "IPY_MODEL_221be995d14749859c26a28c8b5ee875",
              "IPY_MODEL_04ba211b01954e38835f14a3ff0f6215"
            ]
          },
          "model_module_version": "1.5.0"
        },
        "d38c40aff80640ab8ce7e3195afa566a": {
          "model_module": "@jupyter-widgets/base",
          "model_name": "LayoutModel",
          "state": {
            "_view_name": "LayoutView",
            "grid_template_rows": null,
            "right": null,
            "justify_content": null,
            "_view_module": "@jupyter-widgets/base",
            "overflow": null,
            "_model_module_version": "1.2.0",
            "_view_count": null,
            "flex_flow": null,
            "width": null,
            "min_width": null,
            "border": null,
            "align_items": null,
            "bottom": null,
            "_model_module": "@jupyter-widgets/base",
            "top": null,
            "grid_column": null,
            "overflow_y": null,
            "overflow_x": null,
            "grid_auto_flow": null,
            "grid_area": null,
            "grid_template_columns": null,
            "flex": null,
            "_model_name": "LayoutModel",
            "justify_items": null,
            "grid_row": null,
            "max_height": null,
            "align_content": null,
            "visibility": null,
            "align_self": null,
            "height": null,
            "min_height": null,
            "padding": null,
            "grid_auto_rows": null,
            "grid_gap": null,
            "max_width": null,
            "order": null,
            "_view_module_version": "1.2.0",
            "grid_template_areas": null,
            "object_position": null,
            "object_fit": null,
            "grid_auto_columns": null,
            "margin": null,
            "display": null,
            "left": null
          },
          "model_module_version": "1.2.0"
        },
        "221be995d14749859c26a28c8b5ee875": {
          "model_module": "@jupyter-widgets/controls",
          "model_name": "FloatProgressModel",
          "state": {
            "_view_name": "ProgressView",
            "style": "IPY_MODEL_f087b3f6620c46eaa9e058aad65cd550",
            "_dom_classes": [],
            "description": "",
            "_model_name": "FloatProgressModel",
            "bar_style": "info",
            "max": 1,
            "_view_module": "@jupyter-widgets/controls",
            "_model_module_version": "1.5.0",
            "value": 1,
            "_view_count": null,
            "_view_module_version": "1.5.0",
            "orientation": "horizontal",
            "min": 0,
            "description_tooltip": null,
            "_model_module": "@jupyter-widgets/controls",
            "layout": "IPY_MODEL_4c045af81b294ff1ab1d8cc737ae0f17"
          },
          "model_module_version": "1.5.0"
        },
        "04ba211b01954e38835f14a3ff0f6215": {
          "model_module": "@jupyter-widgets/controls",
          "model_name": "HTMLModel",
          "state": {
            "_view_name": "HTMLView",
            "style": "IPY_MODEL_b3fa79b66da147fab45f00edbe97abc0",
            "_dom_classes": [],
            "description": "",
            "_model_name": "HTMLModel",
            "placeholder": "​",
            "_view_module": "@jupyter-widgets/controls",
            "_model_module_version": "1.5.0",
            "value": " 10358/0 [00:01&lt;00:00, 9409.25 examples/s]",
            "_view_count": null,
            "_view_module_version": "1.5.0",
            "description_tooltip": null,
            "_model_module": "@jupyter-widgets/controls",
            "layout": "IPY_MODEL_045f1f47afbd40c0a8641f38fbc30c8f"
          },
          "model_module_version": "1.5.0"
        },
        "f087b3f6620c46eaa9e058aad65cd550": {
          "model_module": "@jupyter-widgets/controls",
          "model_name": "ProgressStyleModel",
          "state": {
            "_view_name": "StyleView",
            "_model_name": "ProgressStyleModel",
            "description_width": "initial",
            "_view_module": "@jupyter-widgets/base",
            "_model_module_version": "1.5.0",
            "_view_count": null,
            "_view_module_version": "1.2.0",
            "bar_color": null,
            "_model_module": "@jupyter-widgets/controls"
          },
          "model_module_version": "1.5.0"
        },
        "4c045af81b294ff1ab1d8cc737ae0f17": {
          "model_module": "@jupyter-widgets/base",
          "model_name": "LayoutModel",
          "state": {
            "_view_name": "LayoutView",
            "grid_template_rows": null,
            "right": null,
            "justify_content": null,
            "_view_module": "@jupyter-widgets/base",
            "overflow": null,
            "_model_module_version": "1.2.0",
            "_view_count": null,
            "flex_flow": null,
            "width": null,
            "min_width": null,
            "border": null,
            "align_items": null,
            "bottom": null,
            "_model_module": "@jupyter-widgets/base",
            "top": null,
            "grid_column": null,
            "overflow_y": null,
            "overflow_x": null,
            "grid_auto_flow": null,
            "grid_area": null,
            "grid_template_columns": null,
            "flex": null,
            "_model_name": "LayoutModel",
            "justify_items": null,
            "grid_row": null,
            "max_height": null,
            "align_content": null,
            "visibility": null,
            "align_self": null,
            "height": null,
            "min_height": null,
            "padding": null,
            "grid_auto_rows": null,
            "grid_gap": null,
            "max_width": null,
            "order": null,
            "_view_module_version": "1.2.0",
            "grid_template_areas": null,
            "object_position": null,
            "object_fit": null,
            "grid_auto_columns": null,
            "margin": null,
            "display": null,
            "left": null
          },
          "model_module_version": "1.2.0"
        },
        "b3fa79b66da147fab45f00edbe97abc0": {
          "model_module": "@jupyter-widgets/controls",
          "model_name": "DescriptionStyleModel",
          "state": {
            "_view_name": "StyleView",
            "_model_name": "DescriptionStyleModel",
            "description_width": "",
            "_view_module": "@jupyter-widgets/base",
            "_model_module_version": "1.5.0",
            "_view_count": null,
            "_view_module_version": "1.2.0",
            "_model_module": "@jupyter-widgets/controls"
          },
          "model_module_version": "1.5.0"
        },
        "045f1f47afbd40c0a8641f38fbc30c8f": {
          "model_module": "@jupyter-widgets/base",
          "model_name": "LayoutModel",
          "state": {
            "_view_name": "LayoutView",
            "grid_template_rows": null,
            "right": null,
            "justify_content": null,
            "_view_module": "@jupyter-widgets/base",
            "overflow": null,
            "_model_module_version": "1.2.0",
            "_view_count": null,
            "flex_flow": null,
            "width": null,
            "min_width": null,
            "border": null,
            "align_items": null,
            "bottom": null,
            "_model_module": "@jupyter-widgets/base",
            "top": null,
            "grid_column": null,
            "overflow_y": null,
            "overflow_x": null,
            "grid_auto_flow": null,
            "grid_area": null,
            "grid_template_columns": null,
            "flex": null,
            "_model_name": "LayoutModel",
            "justify_items": null,
            "grid_row": null,
            "max_height": null,
            "align_content": null,
            "visibility": null,
            "align_self": null,
            "height": null,
            "min_height": null,
            "padding": null,
            "grid_auto_rows": null,
            "grid_gap": null,
            "max_width": null,
            "order": null,
            "_view_module_version": "1.2.0",
            "grid_template_areas": null,
            "object_position": null,
            "object_fit": null,
            "grid_auto_columns": null,
            "margin": null,
            "display": null,
            "left": null
          },
          "model_module_version": "1.2.0"
        },
        "f36940891a1145209d7d4c57d33114c5": {
          "model_module": "@jupyter-widgets/controls",
          "model_name": "HBoxModel",
          "state": {
            "_view_name": "HBoxView",
            "_dom_classes": [],
            "_model_name": "HBoxModel",
            "_view_module": "@jupyter-widgets/controls",
            "_model_module_version": "1.5.0",
            "_view_count": null,
            "_view_module_version": "1.5.0",
            "box_style": "",
            "layout": "IPY_MODEL_5c0b1fe423e34e7a878adca60213e5c1",
            "_model_module": "@jupyter-widgets/controls",
            "children": [
              "IPY_MODEL_4a9af37bbdd24d1388346dde83d4707d",
              "IPY_MODEL_ec783ffa11fc4c128fdb2940765d9309"
            ]
          },
          "model_module_version": "1.5.0"
        },
        "5c0b1fe423e34e7a878adca60213e5c1": {
          "model_module": "@jupyter-widgets/base",
          "model_name": "LayoutModel",
          "state": {
            "_view_name": "LayoutView",
            "grid_template_rows": null,
            "right": null,
            "justify_content": null,
            "_view_module": "@jupyter-widgets/base",
            "overflow": null,
            "_model_module_version": "1.2.0",
            "_view_count": null,
            "flex_flow": null,
            "width": null,
            "min_width": null,
            "border": null,
            "align_items": null,
            "bottom": null,
            "_model_module": "@jupyter-widgets/base",
            "top": null,
            "grid_column": null,
            "overflow_y": null,
            "overflow_x": null,
            "grid_auto_flow": null,
            "grid_area": null,
            "grid_template_columns": null,
            "flex": null,
            "_model_name": "LayoutModel",
            "justify_items": null,
            "grid_row": null,
            "max_height": null,
            "align_content": null,
            "visibility": null,
            "align_self": null,
            "height": null,
            "min_height": null,
            "padding": null,
            "grid_auto_rows": null,
            "grid_gap": null,
            "max_width": null,
            "order": null,
            "_view_module_version": "1.2.0",
            "grid_template_areas": null,
            "object_position": null,
            "object_fit": null,
            "grid_auto_columns": null,
            "margin": null,
            "display": null,
            "left": null
          },
          "model_module_version": "1.2.0"
        },
        "4a9af37bbdd24d1388346dde83d4707d": {
          "model_module": "@jupyter-widgets/controls",
          "model_name": "FloatProgressModel",
          "state": {
            "_view_name": "ProgressView",
            "style": "IPY_MODEL_35e86225caaf45eab4ded020fdb27a20",
            "_dom_classes": [],
            "description": "",
            "_model_name": "FloatProgressModel",
            "bar_style": "info",
            "max": 1,
            "_view_module": "@jupyter-widgets/controls",
            "_model_module_version": "1.5.0",
            "value": 1,
            "_view_count": null,
            "_view_module_version": "1.5.0",
            "orientation": "horizontal",
            "min": 0,
            "description_tooltip": null,
            "_model_module": "@jupyter-widgets/controls",
            "layout": "IPY_MODEL_1ae073cfee0448b6beb94a73c058af54"
          },
          "model_module_version": "1.5.0"
        },
        "ec783ffa11fc4c128fdb2940765d9309": {
          "model_module": "@jupyter-widgets/controls",
          "model_name": "HTMLModel",
          "state": {
            "_view_name": "HTMLView",
            "style": "IPY_MODEL_c5f2e945e8cd45239bd8f4dd1fa497ce",
            "_dom_classes": [],
            "description": "",
            "_model_name": "HTMLModel",
            "placeholder": "​",
            "_view_module": "@jupyter-widgets/controls",
            "_model_module_version": "1.5.0",
            "value": " 13920/0 [00:01&lt;00:00, 8241.13 examples/s]",
            "_view_count": null,
            "_view_module_version": "1.5.0",
            "description_tooltip": null,
            "_model_module": "@jupyter-widgets/controls",
            "layout": "IPY_MODEL_a02edbdcaf4448c3aeb77d9cfa4c9e6c"
          },
          "model_module_version": "1.5.0"
        },
        "35e86225caaf45eab4ded020fdb27a20": {
          "model_module": "@jupyter-widgets/controls",
          "model_name": "ProgressStyleModel",
          "state": {
            "_view_name": "StyleView",
            "_model_name": "ProgressStyleModel",
            "description_width": "initial",
            "_view_module": "@jupyter-widgets/base",
            "_model_module_version": "1.5.0",
            "_view_count": null,
            "_view_module_version": "1.2.0",
            "bar_color": null,
            "_model_module": "@jupyter-widgets/controls"
          },
          "model_module_version": "1.5.0"
        },
        "1ae073cfee0448b6beb94a73c058af54": {
          "model_module": "@jupyter-widgets/base",
          "model_name": "LayoutModel",
          "state": {
            "_view_name": "LayoutView",
            "grid_template_rows": null,
            "right": null,
            "justify_content": null,
            "_view_module": "@jupyter-widgets/base",
            "overflow": null,
            "_model_module_version": "1.2.0",
            "_view_count": null,
            "flex_flow": null,
            "width": null,
            "min_width": null,
            "border": null,
            "align_items": null,
            "bottom": null,
            "_model_module": "@jupyter-widgets/base",
            "top": null,
            "grid_column": null,
            "overflow_y": null,
            "overflow_x": null,
            "grid_auto_flow": null,
            "grid_area": null,
            "grid_template_columns": null,
            "flex": null,
            "_model_name": "LayoutModel",
            "justify_items": null,
            "grid_row": null,
            "max_height": null,
            "align_content": null,
            "visibility": null,
            "align_self": null,
            "height": null,
            "min_height": null,
            "padding": null,
            "grid_auto_rows": null,
            "grid_gap": null,
            "max_width": null,
            "order": null,
            "_view_module_version": "1.2.0",
            "grid_template_areas": null,
            "object_position": null,
            "object_fit": null,
            "grid_auto_columns": null,
            "margin": null,
            "display": null,
            "left": null
          },
          "model_module_version": "1.2.0"
        },
        "c5f2e945e8cd45239bd8f4dd1fa497ce": {
          "model_module": "@jupyter-widgets/controls",
          "model_name": "DescriptionStyleModel",
          "state": {
            "_view_name": "StyleView",
            "_model_name": "DescriptionStyleModel",
            "description_width": "",
            "_view_module": "@jupyter-widgets/base",
            "_model_module_version": "1.5.0",
            "_view_count": null,
            "_view_module_version": "1.2.0",
            "_model_module": "@jupyter-widgets/controls"
          },
          "model_module_version": "1.5.0"
        },
        "a02edbdcaf4448c3aeb77d9cfa4c9e6c": {
          "model_module": "@jupyter-widgets/base",
          "model_name": "LayoutModel",
          "state": {
            "_view_name": "LayoutView",
            "grid_template_rows": null,
            "right": null,
            "justify_content": null,
            "_view_module": "@jupyter-widgets/base",
            "overflow": null,
            "_model_module_version": "1.2.0",
            "_view_count": null,
            "flex_flow": null,
            "width": null,
            "min_width": null,
            "border": null,
            "align_items": null,
            "bottom": null,
            "_model_module": "@jupyter-widgets/base",
            "top": null,
            "grid_column": null,
            "overflow_y": null,
            "overflow_x": null,
            "grid_auto_flow": null,
            "grid_area": null,
            "grid_template_columns": null,
            "flex": null,
            "_model_name": "LayoutModel",
            "justify_items": null,
            "grid_row": null,
            "max_height": null,
            "align_content": null,
            "visibility": null,
            "align_self": null,
            "height": null,
            "min_height": null,
            "padding": null,
            "grid_auto_rows": null,
            "grid_gap": null,
            "max_width": null,
            "order": null,
            "_view_module_version": "1.2.0",
            "grid_template_areas": null,
            "object_position": null,
            "object_fit": null,
            "grid_auto_columns": null,
            "margin": null,
            "display": null,
            "left": null
          },
          "model_module_version": "1.2.0"
        }
      }
    }
  },
  "cells": [
    {
      "cell_type": "markdown",
      "metadata": {
        "id": "view-in-github",
        "colab_type": "text"
      },
      "source": [
        "<a href=\"https://colab.research.google.com/github/jdbj89/colab_repo/blob/main/Interes_NoInteres_FinalV2.ipynb\" target=\"_parent\"><img src=\"https://colab.research.google.com/assets/colab-badge.svg\" alt=\"Open In Colab\"/></a>"
      ]
    },
    {
      "cell_type": "code",
      "metadata": {
        "colab": {
          "base_uri": "https://localhost:8080/"
        },
        "id": "nAxZEZ4Emti_",
        "outputId": "0f0965d3-abb6-4fe4-be73-5fc5c8d10cbc"
      },
      "source": [
        "# install datasets\n",
        "!pip install datasets\n",
        "\n",
        "# Make sure that we have a recent version of pyarrow in the session before we continue - otherwise reboot Colab to activate it\n",
        "import pyarrow\n",
        "if int(pyarrow.__version__.split('.')[1]) < 16 and int(pyarrow.__version__.split('.')[0]) == 0:\n",
        "    import os\n",
        "    os.kill(os.getpid(), 9)"
      ],
      "execution_count": null,
      "outputs": [
        {
          "output_type": "stream",
          "text": [
            "Collecting datasets\n",
            "\u001b[?25l  Downloading https://files.pythonhosted.org/packages/54/90/43b396481a8298c6010afb93b3c1e71d4ba6f8c10797a7da8eb005e45081/datasets-1.5.0-py3-none-any.whl (192kB)\n",
            "\r\u001b[K     |█▊                              | 10kB 15.6MB/s eta 0:00:01\r\u001b[K     |███▍                            | 20kB 12.1MB/s eta 0:00:01\r\u001b[K     |█████                           | 30kB 7.4MB/s eta 0:00:01\r\u001b[K     |██████▉                         | 40kB 3.8MB/s eta 0:00:01\r\u001b[K     |████████▌                       | 51kB 4.7MB/s eta 0:00:01\r\u001b[K     |██████████▏                     | 61kB 5.1MB/s eta 0:00:01\r\u001b[K     |████████████                    | 71kB 5.6MB/s eta 0:00:01\r\u001b[K     |█████████████▋                  | 81kB 5.9MB/s eta 0:00:01\r\u001b[K     |███████████████▎                | 92kB 6.3MB/s eta 0:00:01\r\u001b[K     |█████████████████               | 102kB 5.0MB/s eta 0:00:01\r\u001b[K     |██████████████████▊             | 112kB 5.0MB/s eta 0:00:01\r\u001b[K     |████████████████████▍           | 122kB 5.0MB/s eta 0:00:01\r\u001b[K     |██████████████████████▏         | 133kB 5.0MB/s eta 0:00:01\r\u001b[K     |███████████████████████▉        | 143kB 5.0MB/s eta 0:00:01\r\u001b[K     |█████████████████████████▌      | 153kB 5.0MB/s eta 0:00:01\r\u001b[K     |███████████████████████████▎    | 163kB 5.0MB/s eta 0:00:01\r\u001b[K     |█████████████████████████████   | 174kB 5.0MB/s eta 0:00:01\r\u001b[K     |██████████████████████████████▋ | 184kB 5.0MB/s eta 0:00:01\r\u001b[K     |████████████████████████████████| 194kB 5.0MB/s \n",
            "\u001b[?25hRequirement already satisfied: dill in /usr/local/lib/python3.7/dist-packages (from datasets) (0.3.3)\n",
            "Requirement already satisfied: numpy>=1.17 in /usr/local/lib/python3.7/dist-packages (from datasets) (1.19.5)\n",
            "Requirement already satisfied: requests>=2.19.0 in /usr/local/lib/python3.7/dist-packages (from datasets) (2.23.0)\n",
            "Requirement already satisfied: tqdm<4.50.0,>=4.27 in /usr/local/lib/python3.7/dist-packages (from datasets) (4.41.1)\n",
            "Collecting xxhash\n",
            "\u001b[?25l  Downloading https://files.pythonhosted.org/packages/7d/4f/0a862cad26aa2ed7a7cd87178cbbfa824fc1383e472d63596a0d018374e7/xxhash-2.0.2-cp37-cp37m-manylinux2010_x86_64.whl (243kB)\n",
            "\u001b[K     |████████████████████████████████| 245kB 9.1MB/s \n",
            "\u001b[?25hCollecting fsspec\n",
            "\u001b[?25l  Downloading https://files.pythonhosted.org/packages/62/11/f7689b996f85e45f718745c899f6747ee5edb4878cadac0a41ab146828fa/fsspec-0.9.0-py3-none-any.whl (107kB)\n",
            "\u001b[K     |████████████████████████████████| 112kB 9.8MB/s \n",
            "\u001b[?25hRequirement already satisfied: multiprocess in /usr/local/lib/python3.7/dist-packages (from datasets) (0.70.11.1)\n",
            "Collecting huggingface-hub<0.1.0\n",
            "  Downloading https://files.pythonhosted.org/packages/a1/88/7b1e45720ecf59c6c6737ff332f41c955963090a18e72acbcbeac6b25e86/huggingface_hub-0.0.8-py3-none-any.whl\n",
            "Requirement already satisfied: importlib-metadata; python_version < \"3.8\" in /usr/local/lib/python3.7/dist-packages (from datasets) (3.10.0)\n",
            "Requirement already satisfied: pandas in /usr/local/lib/python3.7/dist-packages (from datasets) (1.1.5)\n",
            "Requirement already satisfied: pyarrow>=0.17.1 in /usr/local/lib/python3.7/dist-packages (from datasets) (3.0.0)\n",
            "Requirement already satisfied: certifi>=2017.4.17 in /usr/local/lib/python3.7/dist-packages (from requests>=2.19.0->datasets) (2020.12.5)\n",
            "Requirement already satisfied: chardet<4,>=3.0.2 in /usr/local/lib/python3.7/dist-packages (from requests>=2.19.0->datasets) (3.0.4)\n",
            "Requirement already satisfied: idna<3,>=2.5 in /usr/local/lib/python3.7/dist-packages (from requests>=2.19.0->datasets) (2.10)\n",
            "Requirement already satisfied: urllib3!=1.25.0,!=1.25.1,<1.26,>=1.21.1 in /usr/local/lib/python3.7/dist-packages (from requests>=2.19.0->datasets) (1.24.3)\n",
            "Requirement already satisfied: filelock in /usr/local/lib/python3.7/dist-packages (from huggingface-hub<0.1.0->datasets) (3.0.12)\n",
            "Requirement already satisfied: zipp>=0.5 in /usr/local/lib/python3.7/dist-packages (from importlib-metadata; python_version < \"3.8\"->datasets) (3.4.1)\n",
            "Requirement already satisfied: typing-extensions>=3.6.4; python_version < \"3.8\" in /usr/local/lib/python3.7/dist-packages (from importlib-metadata; python_version < \"3.8\"->datasets) (3.7.4.3)\n",
            "Requirement already satisfied: pytz>=2017.2 in /usr/local/lib/python3.7/dist-packages (from pandas->datasets) (2018.9)\n",
            "Requirement already satisfied: python-dateutil>=2.7.3 in /usr/local/lib/python3.7/dist-packages (from pandas->datasets) (2.8.1)\n",
            "Requirement already satisfied: six>=1.5 in /usr/local/lib/python3.7/dist-packages (from python-dateutil>=2.7.3->pandas->datasets) (1.15.0)\n",
            "Installing collected packages: xxhash, fsspec, huggingface-hub, datasets\n",
            "Successfully installed datasets-1.5.0 fsspec-0.9.0 huggingface-hub-0.0.8 xxhash-2.0.2\n"
          ],
          "name": "stdout"
        }
      ]
    },
    {
      "cell_type": "code",
      "metadata": {
        "id": "603W5Qaqm0Sl"
      },
      "source": [
        "# Let's import the library. We typically only need at most four methods:\n",
        "from datasets import list_datasets, list_metrics, load_dataset, load_metric\n",
        "from pprint import pprint"
      ],
      "execution_count": null,
      "outputs": []
    },
    {
      "cell_type": "code",
      "metadata": {
        "colab": {
          "base_uri": "https://localhost:8080/",
          "height": 338,
          "referenced_widgets": [
            "e747176f2f11427193ba51044631e550",
            "218226bc454a420cb2ff7e7f283a48fd",
            "9cc95e812c7b4b3f8e9ed787cfabb28d",
            "12906c3359664330af6693e17a87ff19",
            "438dc5a16d164ff79e41490b392ba4dd",
            "3355ad9cf7f849049b40b4df1f480c3c",
            "b7cfe23562aa404fa2eca0eee7ecb57b",
            "8a9efd4a0c86429bb0199e12d6214ec2",
            "53c8b4d316ed41dda689f4b7f46b9bb1",
            "0e0e55b0b1b045d5a0ca85f55bb12e45",
            "c18f4dc094784540b2cb517db5bccf6d",
            "045a7fcff5fb47be99ad0d91d251adfd",
            "5b9ac81537994a3c9848471b4482290c",
            "717d27798fcf4768a106962c48953a2e",
            "fc25fcb6dcf845f98d18dba07b0b1df1",
            "ade3bf1b80df4d718630d08f7141b03b",
            "f0b5bfa558a440e3bd794c5c11d3c885",
            "e0e4b23233064e6196c9d13e4793470f",
            "35943998fac24fd18556fd9411875182",
            "1b57c32665fa461ca1fad6cddb15698d",
            "d697a0c1363b426fbb222c0d4c04eb9c",
            "6e2003591b4a49f5b8f504cf0e2db887",
            "5d5b707fe5aa49f29f36ec185e0986ba",
            "a804b2ef520d4b499ad9b93586006938",
            "fe2ea1c3a93748bfb00b9b8067adc31e",
            "4b4184fa7d314ca4aa9ea111603dc75b",
            "2c4dfc7008454e31b75d592bc454bcb8",
            "fb7ea1a07e064f3fa15373d19d60820b",
            "b96f0559d65f4980b7ac2d9224e62a5a",
            "804b354b95f24e50a5e55c06cae6c9ee",
            "a3e1a43e4f2148b1ac7f5d14963ee79f",
            "f38252d5f78441b29decf898fa2e1778",
            "b5f5c056e8644866bf1b2a536e7e516e",
            "eba1739034cc4016ba9032e8983e7fe7",
            "4c59d45bf53e4d4b968496a3ebbd2979",
            "6c415ef4a0a444919ac0b3d2e6acc668",
            "f93afc7ce6db40f6b168678f980d40ef",
            "ca6b958c10964cd98f34d9911fdd0971",
            "f0fcb608d3194bc3a1dbd89c2e59d623",
            "907ab2d51ede4e438e8ed57fa970c086",
            "701954a0f8f34721b6c3c223dc0a5edd",
            "5ca03c169bff4b7a87f941de7c7905dc",
            "d9e276a7e5e84022a4c2ada5a2797529",
            "abfe5e2366e54ee3bdff4908d11c8612",
            "24fbc9a37bca4b239e2ec4c617356679",
            "5c906e68efb74036852c31c822f5d9c2",
            "045d04e44eca4253ba625f5999cf7649",
            "ae20b79b8c1f427eb116ad1c0209dac0",
            "d891ab014c094875b4be7f2517e43828",
            "d38c40aff80640ab8ce7e3195afa566a",
            "221be995d14749859c26a28c8b5ee875",
            "04ba211b01954e38835f14a3ff0f6215",
            "f087b3f6620c46eaa9e058aad65cd550",
            "4c045af81b294ff1ab1d8cc737ae0f17",
            "b3fa79b66da147fab45f00edbe97abc0",
            "045f1f47afbd40c0a8641f38fbc30c8f",
            "f36940891a1145209d7d4c57d33114c5",
            "5c0b1fe423e34e7a878adca60213e5c1",
            "4a9af37bbdd24d1388346dde83d4707d",
            "ec783ffa11fc4c128fdb2940765d9309",
            "35e86225caaf45eab4ded020fdb27a20",
            "1ae073cfee0448b6beb94a73c058af54",
            "c5f2e945e8cd45239bd8f4dd1fa497ce",
            "a02edbdcaf4448c3aeb77d9cfa4c9e6c"
          ]
        },
        "id": "4ZvjUy-SoRIF",
        "outputId": "5814cd9c-ac1e-4ff3-9e05-9911db81a495"
      },
      "source": [
        "mlsum_dataset = load_dataset(\"mlsum\", \"es\", \"train\")\n",
        "# wiki_dataset = load_dataset(\"wikicorpus\", \"raw_es\")"
      ],
      "execution_count": null,
      "outputs": [
        {
          "output_type": "display_data",
          "data": {
            "application/vnd.jupyter.widget-view+json": {
              "model_id": "e747176f2f11427193ba51044631e550",
              "version_minor": 0,
              "version_major": 2
            },
            "text/plain": [
              "HBox(children=(FloatProgress(value=0.0, description='Downloading', max=1630.0, style=ProgressStyle(description…"
            ]
          },
          "metadata": {
            "tags": []
          }
        },
        {
          "output_type": "stream",
          "text": [
            "\n"
          ],
          "name": "stdout"
        },
        {
          "output_type": "display_data",
          "data": {
            "application/vnd.jupyter.widget-view+json": {
              "model_id": "53c8b4d316ed41dda689f4b7f46b9bb1",
              "version_minor": 0,
              "version_major": 2
            },
            "text/plain": [
              "HBox(children=(FloatProgress(value=0.0, description='Downloading', max=2199.0, style=ProgressStyle(description…"
            ]
          },
          "metadata": {
            "tags": []
          }
        },
        {
          "output_type": "stream",
          "text": [
            "Using custom data configuration es-data_dir=train\n"
          ],
          "name": "stderr"
        },
        {
          "output_type": "stream",
          "text": [
            "\n",
            "Downloading and preparing dataset mlsum/es (download: 489.53 MiB, generated: 1.24 GiB, post-processed: Unknown size, total: 1.72 GiB) to /root/.cache/huggingface/datasets/mlsum/es-data_dir=train/1.0.0/fa51ffa9847464afce0f114ce70ab956e57905627bb24435851ddb91312a2238...\n"
          ],
          "name": "stdout"
        },
        {
          "output_type": "display_data",
          "data": {
            "application/vnd.jupyter.widget-view+json": {
              "model_id": "f0b5bfa558a440e3bd794c5c11d3c885",
              "version_minor": 0,
              "version_major": 2
            },
            "text/plain": [
              "HBox(children=(FloatProgress(value=0.0, description='Downloading', max=27386169.0, style=ProgressStyle(descrip…"
            ]
          },
          "metadata": {
            "tags": []
          }
        },
        {
          "output_type": "stream",
          "text": [
            "\n"
          ],
          "name": "stdout"
        },
        {
          "output_type": "display_data",
          "data": {
            "application/vnd.jupyter.widget-view+json": {
              "model_id": "fe2ea1c3a93748bfb00b9b8067adc31e",
              "version_minor": 0,
              "version_major": 2
            },
            "text/plain": [
              "HBox(children=(FloatProgress(value=0.0, description='Downloading', max=466443036.0, style=ProgressStyle(descri…"
            ]
          },
          "metadata": {
            "tags": []
          }
        },
        {
          "output_type": "stream",
          "text": [
            "\n"
          ],
          "name": "stdout"
        },
        {
          "output_type": "display_data",
          "data": {
            "application/vnd.jupyter.widget-view+json": {
              "model_id": "b5f5c056e8644866bf1b2a536e7e516e",
              "version_minor": 0,
              "version_major": 2
            },
            "text/plain": [
              "HBox(children=(FloatProgress(value=0.0, description='Downloading', max=19483214.0, style=ProgressStyle(descrip…"
            ]
          },
          "metadata": {
            "tags": []
          }
        },
        {
          "output_type": "stream",
          "text": [
            "\n"
          ],
          "name": "stdout"
        },
        {
          "output_type": "display_data",
          "data": {
            "application/vnd.jupyter.widget-view+json": {
              "model_id": "701954a0f8f34721b6c3c223dc0a5edd",
              "version_minor": 0,
              "version_major": 2
            },
            "text/plain": [
              "HBox(children=(FloatProgress(value=1.0, bar_style='info', max=1.0), HTML(value='')))"
            ]
          },
          "metadata": {
            "tags": []
          }
        },
        {
          "output_type": "stream",
          "text": [
            "\r"
          ],
          "name": "stdout"
        },
        {
          "output_type": "display_data",
          "data": {
            "application/vnd.jupyter.widget-view+json": {
              "model_id": "d891ab014c094875b4be7f2517e43828",
              "version_minor": 0,
              "version_major": 2
            },
            "text/plain": [
              "HBox(children=(FloatProgress(value=1.0, bar_style='info', max=1.0), HTML(value='')))"
            ]
          },
          "metadata": {
            "tags": []
          }
        },
        {
          "output_type": "stream",
          "text": [
            "\r"
          ],
          "name": "stdout"
        },
        {
          "output_type": "display_data",
          "data": {
            "application/vnd.jupyter.widget-view+json": {
              "model_id": "f36940891a1145209d7d4c57d33114c5",
              "version_minor": 0,
              "version_major": 2
            },
            "text/plain": [
              "HBox(children=(FloatProgress(value=1.0, bar_style='info', max=1.0), HTML(value='')))"
            ]
          },
          "metadata": {
            "tags": []
          }
        },
        {
          "output_type": "stream",
          "text": [
            "\rDataset mlsum downloaded and prepared to /root/.cache/huggingface/datasets/mlsum/es-data_dir=train/1.0.0/fa51ffa9847464afce0f114ce70ab956e57905627bb24435851ddb91312a2238. Subsequent calls will reuse this data.\n"
          ],
          "name": "stdout"
        }
      ]
    },
    {
      "cell_type": "code",
      "metadata": {
        "colab": {
          "base_uri": "https://localhost:8080/"
        },
        "id": "kJl_ZqaXuSIt",
        "outputId": "66a29f96-5abb-47ec-b807-7bd13d2e9323"
      },
      "source": [
        "pprint(mlsum_dataset)\n",
        "pprint(mlsum_dataset.column_names)\n",
        "print(mlsum_dataset[\"train\"]['text'][:1])\n"
      ],
      "execution_count": null,
      "outputs": [
        {
          "output_type": "stream",
          "text": [
            "{'test': Dataset({\n",
            "    features: ['text', 'summary', 'topic', 'url', 'title', 'date'],\n",
            "    num_rows: 13920\n",
            "}),\n",
            " 'train': Dataset({\n",
            "    features: ['text', 'summary', 'topic', 'url', 'title', 'date'],\n",
            "    num_rows: 266367\n",
            "}),\n",
            " 'validation': Dataset({\n",
            "    features: ['text', 'summary', 'topic', 'url', 'title', 'date'],\n",
            "    num_rows: 10358\n",
            "})}\n",
            "{'test': ['date', 'summary', 'text', 'title', 'topic', 'url'],\n",
            " 'train': ['date', 'summary', 'text', 'title', 'topic', 'url'],\n",
            " 'validation': ['date', 'summary', 'text', 'title', 'topic', 'url']}\n",
            "['De momento, no podemos responder a la pregunta frivolona que toda España se hace hoy, además de por qué bebí tanto anoche. ¿Qué cadena ganó en la retransmisión de las campanadas? Los sentimos, Sofres no ofrece hoy los datos por ser festivo. Los contendientes fueron el colegueo de Los Manolos, Manu Carreño y Manolo Lama (Cuatro), la gracia y juventud de los actores Antonio Garrido y Patricia Montero (Antena 3), el morboso dúo Sálvame, Javier Vázquez y Belén Esteban (Telecinco), el valor seguro de Anne Igartiburu en TVE-1 y el humor inteligente de Berto y Ana Morgade (La Sexta). Por primera vez en 13 años, Ramón García, el entrañable Ramontxu que aguantaba el frío como nadie bajo su capa, no estaba ante las cámaras. El menú para las últimas que los españoles vieron en el sistema analógico -el próximo 3 de abril todas las emisiones pasan a la TDT-, era de lo más variadito. La clásica TVE encargó por quinta vez la retransmisión a Anne Igartiburu, esta vez junto al actor Manuel Bandera, debutante. Entalladísima, escotadísima y de rojo Lorenzo Caprile, la sobria y correcta Igartiburu sobrevivió a duras penas al frío mientras todos sufríamos por ella. Antena 3, en cuya web se echan en falta los reflejos de destacar alguna referencia o vídeo resumen de lo sucedido anoche, viajó a la plaza del Obradoiro de Santiago de Compostela con motivo del nuevo año Xacobeo mientras Berto y Morgade daban en La Sexta hilarantes consejos para superar la resaca del día siguiente o cómo comportarse si toca visitar la casa de los suegros -ni rastro en su web, pero sí en las de sus fans. Cuatro, a la que tan buen resultado dio la Eurocopa, empezó desde el primer día a celebrar el año del Mundial de Fútbol con Carreño y Lama desplazados a Suráfrica. La Campos y la Esteban Sin datos en la mano, la impresión general es que el grueso de la audiencia vio las campanadas en TVE-1 por la fuerza de la tradición, pero muchos de los televidentes estaban con un ojo puesto en el pre y el post de Telecinco, con la Esteban en su salsa: una cabeza por encima de Jorge Javier gracias a sus taconazos, vestida de azul cobalto marca Versace, enseñando la liga roja y saludando a grito limpio a su hija -\"Andrea te quiero\"- padres, pareja y demás familia. Es muy posible que la cadena privada haya recortado distancias con La Primera, que el año pasado se llevó el gato al agua con más de 5,5 millones de personas y un 39% de cuota de pantalla. Según la encuesta no científica abierta en ELPAÍS.com, con 2.000 votos a las siete y media de la tarde, barrió la pública con un 56%, mientras que Telecinco se hizo con un 25% de la tarta. Las demás no llegaban ni al 10%. Más allá del sin vivir de saber qué pasó finalmente, aún hay más. Para todos los que se lo perdieron o, incluso, se quedaron con ganas de más, Telecinco explota el filón el sábado. María Teresa Campos presentará este sábado (18.00) en Telecinco un especial dedicado a Belén Esteban, en el que se revisará su (corta y polémica) biografía y el fenómeno mediático en el que la han convertido. Belén da la campanada ofrecerá además un making of de la retransmisión de las campanadas en Telecinco, así como los mejores momentos de la Nochevieja, unos vídeos que ya han colgado en su web, entregada hasta la extenuación al evento: los exóticos consejos para tener suerte el año que viene, el don de lenguas del premio Ondas 2009 al mejor presentador, que felicitó el año en todos los idiomas oficiales y la explicación de la colaboradora de cómo tomar las uvas. El espacio hará un repaso cronológico de la vida de la Esteban desde el momento en el que una completa desconocida comenzó a aparecer en los medios en 1998 como la novia de Jesulín de Ubrique hasta llegar a hoy en día, convertida en la princesa del pueblo, en concreto del popular madrileño distrito de San Blas donde vive, tal y como algunos la han calificado, y protagonista de portadas de revistas, diarios y portales web y de aparecer incluso entre los personajes más populares de Google. Junto a María Teresa Campos, estarán en el plató Patricia Pérez, presentadora del programa matinal de los sábados en Telecinco Vuélveme loca, quien ha conducido las campanadas en cuatro ocasiones, y los comentaristas Maribel Escalona, Emilio Pineda y José Manuel Parada.']\n"
          ],
          "name": "stdout"
        }
      ]
    },
    {
      "cell_type": "code",
      "metadata": {
        "colab": {
          "base_uri": "https://localhost:8080/",
          "height": 195
        },
        "id": "LvJ4926_8KI9",
        "outputId": "bfa39c47-0544-4948-9c51-59ad47667523"
      },
      "source": [
        "import pandas as pd\n",
        "\n",
        "df_data=pd.DataFrame(mlsum_dataset[\"train\"]['text'][:7484], columns=['Text'])\n",
        "df_data['Type']=\"discarded\"\n",
        "df_data.head()"
      ],
      "execution_count": null,
      "outputs": [
        {
          "output_type": "execute_result",
          "data": {
            "text/html": [
              "<div>\n",
              "<style scoped>\n",
              "    .dataframe tbody tr th:only-of-type {\n",
              "        vertical-align: middle;\n",
              "    }\n",
              "\n",
              "    .dataframe tbody tr th {\n",
              "        vertical-align: top;\n",
              "    }\n",
              "\n",
              "    .dataframe thead th {\n",
              "        text-align: right;\n",
              "    }\n",
              "</style>\n",
              "<table border=\"1\" class=\"dataframe\">\n",
              "  <thead>\n",
              "    <tr style=\"text-align: right;\">\n",
              "      <th></th>\n",
              "      <th>Text</th>\n",
              "      <th>Type</th>\n",
              "    </tr>\n",
              "  </thead>\n",
              "  <tbody>\n",
              "    <tr>\n",
              "      <th>0</th>\n",
              "      <td>De momento, no podemos responder a la pregunta...</td>\n",
              "      <td>discarded</td>\n",
              "    </tr>\n",
              "    <tr>\n",
              "      <th>1</th>\n",
              "      <td>Los vuelos han venido registrando este viernes...</td>\n",
              "      <td>discarded</td>\n",
              "    </tr>\n",
              "    <tr>\n",
              "      <th>2</th>\n",
              "      <td>El Gobierno turco ha anunciado que emprenderá ...</td>\n",
              "      <td>discarded</td>\n",
              "    </tr>\n",
              "    <tr>\n",
              "      <th>3</th>\n",
              "      <td>La policía de Finlandia ha informado este vier...</td>\n",
              "      <td>discarded</td>\n",
              "    </tr>\n",
              "    <tr>\n",
              "      <th>4</th>\n",
              "      <td>\"Hemos descubierto un agujero vertical en la L...</td>\n",
              "      <td>discarded</td>\n",
              "    </tr>\n",
              "  </tbody>\n",
              "</table>\n",
              "</div>"
            ],
            "text/plain": [
              "                                                Text       Type\n",
              "0  De momento, no podemos responder a la pregunta...  discarded\n",
              "1  Los vuelos han venido registrando este viernes...  discarded\n",
              "2  El Gobierno turco ha anunciado que emprenderá ...  discarded\n",
              "3  La policía de Finlandia ha informado este vier...  discarded\n",
              "4  \"Hemos descubierto un agujero vertical en la L...  discarded"
            ]
          },
          "metadata": {
            "tags": []
          },
          "execution_count": 5
        }
      ]
    },
    {
      "cell_type": "code",
      "metadata": {
        "colab": {
          "base_uri": "https://localhost:8080/"
        },
        "id": "ZNGCvoFZgcXJ",
        "outputId": "9375bce9-50e0-4dcb-d79c-c4d37197e374"
      },
      "source": [
        "from google.colab import drive\n",
        "drive.mount('/content/drive/')"
      ],
      "execution_count": null,
      "outputs": [
        {
          "output_type": "stream",
          "text": [
            "Mounted at /content/drive/\n"
          ],
          "name": "stdout"
        }
      ]
    },
    {
      "cell_type": "code",
      "metadata": {
        "colab": {
          "base_uri": "https://localhost:8080/",
          "height": 402
        },
        "id": "FsjyO6Pvgvke",
        "outputId": "20924faf-4f7c-44ef-f833-65f09b53c5a2"
      },
      "source": [
        "import pandas as pd\n",
        "\n",
        "dataPath=\"/content/drive/MyDrive/Data_Text/\"\n",
        "\n",
        "df0 = pd.read_csv(dataPath+\"data_0.csv\")\n",
        "df1 = pd.read_csv(dataPath+\"data_1.csv\")\n",
        "df2 = pd.read_csv(dataPath+\"data_2.csv\")\n",
        "df3 = pd.read_csv(dataPath+\"data_3.csv\")\n",
        "df4 = pd.read_csv(dataPath+\"data_4.csv\")\n",
        "\n",
        "df0.drop(df0.index[0], inplace=True) #Se borra el primer dato por que es un dato aislado y no esta dentro del rango estipulado --JD\n",
        "\n",
        "dfaux=df4[df4[\"Id Num\"]<=20800]\n",
        "\n",
        "dfTest=df4[df4[\"Id Num\"]>20800].reset_index(drop=True)\n",
        "\n",
        "dfTest=dfTest[dfTest['Type']!=\"none\"].reset_index(drop=True)\n",
        "\n",
        "\n",
        "frames = [df0, df1, df2, df3, dfaux]\n",
        "MedData = pd.concat(frames).reset_index(drop=True) #ojo importante reiniciar los indices, tuve un grave error sin eso --JD\n",
        "\n",
        "MedData.drop_duplicates(inplace = True) #En el proceso de recopilacion de la info se duplico un archivo por eso se borra --JD\n",
        "\n",
        "MedData= MedData[MedData['Type']!=\"none\"].reset_index(drop=True)\n",
        "MedData=MedData[['Text', 'Type']]\n",
        "\n",
        "MedData['Type'] = MedData['Type'].replace(['history'],['discarded'])\n",
        "MedData['Type'] = MedData['Type'].replace(['procedure','medicine'],['important','important'])\n",
        "\n",
        "RawData = pd.concat([df_data, MedData]).reset_index(drop=True) #ojo importante reiniciar los indices, tuve un grave error sin eso --JD\n",
        "RawData = RawData.sample(frac=1).reset_index(drop=True)\n",
        "\n",
        "display(RawData)\n",
        "# RawData.head"
      ],
      "execution_count": null,
      "outputs": [
        {
          "output_type": "display_data",
          "data": {
            "text/html": [
              "<div>\n",
              "<style scoped>\n",
              "    .dataframe tbody tr th:only-of-type {\n",
              "        vertical-align: middle;\n",
              "    }\n",
              "\n",
              "    .dataframe tbody tr th {\n",
              "        vertical-align: top;\n",
              "    }\n",
              "\n",
              "    .dataframe thead th {\n",
              "        text-align: right;\n",
              "    }\n",
              "</style>\n",
              "<table border=\"1\" class=\"dataframe\">\n",
              "  <thead>\n",
              "    <tr style=\"text-align: right;\">\n",
              "      <th></th>\n",
              "      <th>Text</th>\n",
              "      <th>Type</th>\n",
              "    </tr>\n",
              "  </thead>\n",
              "  <tbody>\n",
              "    <tr>\n",
              "      <th>0</th>\n",
              "      <td>Las universidades construyen mitos con los que...</td>\n",
              "      <td>discarded</td>\n",
              "    </tr>\n",
              "    <tr>\n",
              "      <th>1</th>\n",
              "      <td>Fecha y Hora de Solicitud:\\n06/02/2021 11:36\\n...</td>\n",
              "      <td>important</td>\n",
              "    </tr>\n",
              "    <tr>\n",
              "      <th>2</th>\n",
              "      <td>FÓRMULA\\nNúmero de fórmula:\\nFecha elaboración...</td>\n",
              "      <td>important</td>\n",
              "    </tr>\n",
              "    <tr>\n",
              "      <th>3</th>\n",
              "      <td>Keralty\\nINVERSIONES CLINITAS S.A.\\nINTERCON\\n...</td>\n",
              "      <td>discarded</td>\n",
              "    </tr>\n",
              "    <tr>\n",
              "      <th>4</th>\n",
              "      <td>Clínica Carriazo S.A.\\nPaciente:\\nContrato:\\nM...</td>\n",
              "      <td>important</td>\n",
              "    </tr>\n",
              "    <tr>\n",
              "      <th>...</th>\n",
              "      <td>...</td>\n",
              "      <td>...</td>\n",
              "    </tr>\n",
              "    <tr>\n",
              "      <th>11221</th>\n",
              "      <td>El Ejército colombiano ha detenido este doming...</td>\n",
              "      <td>discarded</td>\n",
              "    </tr>\n",
              "    <tr>\n",
              "      <th>11222</th>\n",
              "      <td>DISPONIBLE\\nGASTROENTEROLOGIA CLINICA - ENDOSC...</td>\n",
              "      <td>important</td>\n",
              "    </tr>\n",
              "    <tr>\n",
              "      <th>11223</th>\n",
              "      <td>UBAFERTIL Dr. Orlando Ruiz Jiménez\\nUnidad Bás...</td>\n",
              "      <td>important</td>\n",
              "    </tr>\n",
              "    <tr>\n",
              "      <th>11224</th>\n",
              "      <td>Fecha de Impresión: 19/01/2021 09:34\\nHORGHOSP...</td>\n",
              "      <td>important</td>\n",
              "    </tr>\n",
              "    <tr>\n",
              "      <th>11225</th>\n",
              "      <td>El temporal sacudió ayer, de nuevo, Andalucía....</td>\n",
              "      <td>discarded</td>\n",
              "    </tr>\n",
              "  </tbody>\n",
              "</table>\n",
              "<p>11226 rows × 2 columns</p>\n",
              "</div>"
            ],
            "text/plain": [
              "                                                    Text       Type\n",
              "0      Las universidades construyen mitos con los que...  discarded\n",
              "1      Fecha y Hora de Solicitud:\\n06/02/2021 11:36\\n...  important\n",
              "2      FÓRMULA\\nNúmero de fórmula:\\nFecha elaboración...  important\n",
              "3      Keralty\\nINVERSIONES CLINITAS S.A.\\nINTERCON\\n...  discarded\n",
              "4      Clínica Carriazo S.A.\\nPaciente:\\nContrato:\\nM...  important\n",
              "...                                                  ...        ...\n",
              "11221  El Ejército colombiano ha detenido este doming...  discarded\n",
              "11222  DISPONIBLE\\nGASTROENTEROLOGIA CLINICA - ENDOSC...  important\n",
              "11223  UBAFERTIL Dr. Orlando Ruiz Jiménez\\nUnidad Bás...  important\n",
              "11224  Fecha de Impresión: 19/01/2021 09:34\\nHORGHOSP...  important\n",
              "11225  El temporal sacudió ayer, de nuevo, Andalucía....  discarded\n",
              "\n",
              "[11226 rows x 2 columns]"
            ]
          },
          "metadata": {
            "tags": []
          }
        }
      ]
    },
    {
      "cell_type": "code",
      "metadata": {
        "colab": {
          "base_uri": "https://localhost:8080/"
        },
        "id": "wQOpjpV_hKCA",
        "outputId": "925d086d-b753-4626-b853-3ceaee4c9886"
      },
      "source": [
        "import numpy as np\n",
        "import sklearn\n",
        "from io import StringIO\n",
        "\n",
        "\n",
        "RawData['category_id'] = RawData['Type'].factorize()[0]  # otorga un valor para cada tipo de dato --JD\n",
        "\n",
        "category_id_df = RawData[['Type', 'category_id']].drop_duplicates().sort_values('category_id')\n",
        "category_to_id = dict(category_id_df.values)\n",
        "id_to_category = dict(category_id_df[['category_id', 'Type']].values)\n",
        "\n",
        "print(category_id_df)\n",
        "print(category_to_id)\n",
        "print(id_to_category)"
      ],
      "execution_count": null,
      "outputs": [
        {
          "output_type": "stream",
          "text": [
            "        Type  category_id\n",
            "0  discarded            0\n",
            "1  important            1\n",
            "{'discarded': 0, 'important': 1}\n",
            "{0: 'discarded', 1: 'important'}\n"
          ],
          "name": "stdout"
        }
      ]
    },
    {
      "cell_type": "code",
      "metadata": {
        "colab": {
          "base_uri": "https://localhost:8080/",
          "height": 498
        },
        "id": "dNAAWFkgDiHk",
        "outputId": "43515354-6375-4110-b076-984aa0eb9895"
      },
      "source": [
        "import matplotlib.pyplot as plt\n",
        "\n",
        "fig = plt.figure(figsize=(8,6))\n",
        "\n",
        "RawData.groupby('Type').Text.count().plot.bar(ylim=0)\n",
        "plt.show()\n",
        "\n",
        "print(RawData.groupby('Type').Text.count())"
      ],
      "execution_count": null,
      "outputs": [
        {
          "output_type": "display_data",
          "data": {
            "image/png": "[encoded data removed]",
            "text/plain": [
              "<Figure size 576x432 with 1 Axes>"
            ]
          },
          "metadata": {
            "tags": [],
            "needs_background": "light"
          }
        },
        {
          "output_type": "stream",
          "text": [
            "Type\n",
            "discarded    8016\n",
            "important    3210\n",
            "Name: Text, dtype: int64\n"
          ],
          "name": "stdout"
        }
      ]
    },
    {
      "cell_type": "code",
      "metadata": {
        "colab": {
          "base_uri": "https://localhost:8080/"
        },
        "id": "OJ_JyOirNFkj",
        "outputId": "16f872b8-d136-42fb-8a6b-6048b80e0da7"
      },
      "source": [
        "import nltk\n",
        "nltk.download('stopwords')"
      ],
      "execution_count": null,
      "outputs": [
        {
          "output_type": "stream",
          "text": [
            "[nltk_data] Downloading package stopwords to /root/nltk_data...\n",
            "[nltk_data]   Unzipping corpora/stopwords.zip.\n"
          ],
          "name": "stdout"
        },
        {
          "output_type": "execute_result",
          "data": {
            "text/plain": [
              "True"
            ]
          },
          "metadata": {
            "tags": []
          },
          "execution_count": 11
        }
      ]
    },
    {
      "cell_type": "code",
      "metadata": {
        "colab": {
          "base_uri": "https://localhost:8080/"
        },
        "id": "3a4hIrJbDqPK",
        "outputId": "6cef9c04-61ea-4583-b885-6d01335eb5e4"
      },
      "source": [
        "from sklearn.feature_extraction.text import TfidfVectorizer\n",
        "from sklearn.model_selection import train_test_split\n",
        "from sklearn.svm import LinearSVC\n",
        "from sklearn.metrics import confusion_matrix\n",
        "import pickle\n",
        "from nltk.corpus import stopwords\n",
        "\n",
        "# sublinear_df is set to True to use a logarithmic form for frequency.\n",
        "# min_df is the minimum numbers of documents a word must be present in to be kept.\n",
        "# norm is set to l2, to ensure all our feature vectors have a euclidian norm of 1.\n",
        "# ngram_range is set to (1, 2) to indicate that we want to consider both unigrams and bigrams.\n",
        "\n",
        "#vectorizer = TfidfVectorizer(max_features=70000, stop_words=stopwords.words(\"spanish\"))\n",
        "vectorizer = TfidfVectorizer(sublinear_tf=True, min_df=5, max_features=70000, norm='l2', encoding='latin-1', ngram_range=(1, 2), stop_words=stopwords.words(\"spanish\"))\n",
        "#vectorizer = TfidfVectorizer(min_df=5, norm='l2', ngram_range=(1, 2))\n",
        "\n",
        "tfidf = vectorizer.fit(RawData[\"Text\"].values.astype('U'))\n",
        "# features = vectorizer.fit_transform(RawData[\"Text\"].values.astype('U'))\n",
        "# features = vectorizer.fit_transform(RawData.Text).toarray()\n",
        "features = vectorizer.fit_transform(RawData.Text)\n",
        "labels = RawData.category_id\n",
        "features.shape\n",
        "# print(labels)\n"
      ],
      "execution_count": null,
      "outputs": [
        {
          "output_type": "execute_result",
          "data": {
            "text/plain": [
              "(11226, 70000)"
            ]
          },
          "metadata": {
            "tags": []
          },
          "execution_count": 12
        }
      ]
    },
    {
      "cell_type": "code",
      "metadata": {
        "colab": {
          "base_uri": "https://localhost:8080/"
        },
        "id": "TTBl7_SaUQos",
        "outputId": "121a1e5c-48c0-4421-a076-27bb641b73b0"
      },
      "source": [
        "X_train, X_test, y_train, y_test, indices_train, indices_test = train_test_split(features, labels, RawData.index, test_size=0.2, random_state=0)\n",
        "\n",
        "model = LinearSVC()\n",
        "model.fit(X_train, y_train)"
      ],
      "execution_count": null,
      "outputs": [
        {
          "output_type": "execute_result",
          "data": {
            "text/plain": [
              "LinearSVC(C=1.0, class_weight=None, dual=True, fit_intercept=True,\n",
              "          intercept_scaling=1, loss='squared_hinge', max_iter=1000,\n",
              "          multi_class='ovr', penalty='l2', random_state=None, tol=0.0001,\n",
              "          verbose=0)"
            ]
          },
          "metadata": {
            "tags": []
          },
          "execution_count": 13
        }
      ]
    },
    {
      "cell_type": "code",
      "metadata": {
        "id": "o8lx0U6nQP1M"
      },
      "source": [
        "model_path = dataPath + \"model_Info_Dis_ImpV2.pickle\"\n",
        "tfidf_path = dataPath + \"vectorizer_Info_Dis_ImpV2.pickle\"\n",
        "pickle.dump(model, open(model_path, 'wb'))\n",
        "pickle.dump(tfidf, open(tfidf_path, \"wb\"))"
      ],
      "execution_count": null,
      "outputs": []
    },
    {
      "cell_type": "code",
      "metadata": {
        "colab": {
          "base_uri": "https://localhost:8080/"
        },
        "id": "f7696CdXE4_T",
        "outputId": "8acb1b54-acd0-41bf-a14f-41209b559a27"
      },
      "source": [
        "tfidf_loaded = pickle.load(open(tfidf_path,'rb'))\n",
        "model_loaded = pickle.load(open(model_path,'rb'))\n",
        "pred = model_loaded.predict(tfidf_loaded.transform([\"Solicitud de procedimiento TAC abdominal paciente con cancer pulmonar\"]))[0]\n",
        "print (\"predicted class:\", id_to_category[pred])"
      ],
      "execution_count": null,
      "outputs": [
        {
          "output_type": "stream",
          "text": [
            "predicted class: important\n"
          ],
          "name": "stdout"
        }
      ]
    },
    {
      "cell_type": "code",
      "metadata": {
        "colab": {
          "base_uri": "https://localhost:8080/"
        },
        "id": "C4z5gfGEKdkV",
        "outputId": "d1240771-3139-48b9-ff55-19b88d83d5ce"
      },
      "source": [
        "pred = model_loaded.predict(tfidf_loaded.transform([\"Informacion de Interes, por favor pagar en el punto mas cernano\"]))[0]\n",
        "print (\"predicted class:\", id_to_category[pred])"
      ],
      "execution_count": null,
      "outputs": [
        {
          "output_type": "stream",
          "text": [
            "predicted class: important\n"
          ],
          "name": "stdout"
        }
      ]
    },
    {
      "cell_type": "code",
      "metadata": {
        "colab": {
          "base_uri": "https://localhost:8080/"
        },
        "id": "X_rjXEhZKnkj",
        "outputId": "12e81a9d-c850-445b-811b-ba956c0a5b7a"
      },
      "source": [
        "pred = model_loaded.predict(tfidf_loaded.transform([\"Bancolombia, cuenta de ahorros 3323232, el estado actual es bloqueada por robo\"]))[0]\n",
        "print (\"predicted class:\", id_to_category[pred])"
      ],
      "execution_count": null,
      "outputs": [
        {
          "output_type": "stream",
          "text": [
            "predicted class: discarded\n"
          ],
          "name": "stdout"
        }
      ]
    },
    {
      "cell_type": "code",
      "metadata": {
        "colab": {
          "base_uri": "https://localhost:8080/"
        },
        "id": "NM-5FUEKK1vi",
        "outputId": "8e4b46e2-048a-4053-86d1-e693f4ecc02c"
      },
      "source": [
        "pred = model_loaded.predict(tfidf_loaded.transform([\"La señora Gabriela salio de sus casa y se encontro con un pariente\"]))[0]\n",
        "print (\"predicted class:\", id_to_category[pred])"
      ],
      "execution_count": null,
      "outputs": [
        {
          "output_type": "stream",
          "text": [
            "predicted class: discarded\n"
          ],
          "name": "stdout"
        }
      ]
    },
    {
      "cell_type": "code",
      "metadata": {
        "colab": {
          "base_uri": "https://localhost:8080/",
          "height": 765
        },
        "id": "sEafiT59E7oL",
        "outputId": "d6e2a1b9-5656-4d2d-c570-01647c2aa41e"
      },
      "source": [
        "import seaborn as sns\n",
        "from sklearn import metrics\n",
        "\n",
        "y_pred = model_loaded.predict(X_test)\n",
        "conf_mat = confusion_matrix(y_test, y_pred)\n",
        "fig, ax = plt.subplots(figsize=(10,10))\n",
        "sns.heatmap(conf_mat, annot=True, fmt='d',\n",
        "            xticklabels=category_id_df.Type.values, yticklabels=category_id_df.Type.values)\n",
        "plt.ylabel('Actual')\n",
        "plt.xlabel('Predicted')\n",
        "plt.show()\n",
        "\n",
        "print(metrics.classification_report(y_test, y_pred, target_names=RawData['Type'].unique()))"
      ],
      "execution_count": null,
      "outputs": [
        {
          "output_type": "display_data",
          "data": {
            "image/png": "[encoded data removed]",
            "text/plain": [
              "<Figure size 720x720 with 2 Axes>"
            ]
          },
          "metadata": {
            "tags": [],
            "needs_background": "light"
          }
        },
        {
          "output_type": "stream",
          "text": [
            "              precision    recall  f1-score   support\n",
            "\n",
            "   discarded       0.99      0.99      0.99      1569\n",
            "   important       0.97      0.98      0.98       677\n",
            "\n",
            "    accuracy                           0.99      2246\n",
            "   macro avg       0.98      0.99      0.98      2246\n",
            "weighted avg       0.99      0.99      0.99      2246\n",
            "\n"
          ],
          "name": "stdout"
        }
      ]
    },
    {
      "cell_type": "code",
      "metadata": {
        "colab": {
          "base_uri": "https://localhost:8080/",
          "height": 882
        },
        "id": "SnLz96pPLY31",
        "outputId": "b5cfc3e4-4a0a-41c1-c65c-3dc6f76f1f3c"
      },
      "source": [
        "dfTest=dfTest[['Text', 'Type']]\n",
        "dfTest['Type'] = dfTest['Type'].replace(['history'],['discarded'])\n",
        "dfTest['Type'] = dfTest['Type'].replace(['procedure','medicine'],['important','important'])\n",
        "\n",
        "df_data_test=pd.DataFrame(mlsum_dataset[\"train\"]['text'][7500:7748], columns=['Text'])\n",
        "df_data_test['Type']=\"discarded\"\n",
        "\n",
        "test_data = pd.concat([dfTest, df_data_test]).reset_index(drop=True) #ojo importante reiniciar los indices, tuve un grave error sin eso --JD\n",
        "test_data = test_data.sample(frac=1).reset_index(drop=True)\n",
        "\n",
        "# display(test_data)\n",
        "\n",
        "test_data['category_id'] = test_data['Type'].map(category_to_id)\n",
        "display(test_data)\n",
        "\n",
        "fig = plt.figure(figsize=(8,6))\n",
        "\n",
        "test_data.groupby('Type').Text.count().plot.bar(ylim=0)\n",
        "plt.show()\n",
        "\n",
        "print(test_data.groupby('Type').Text.count())"
      ],
      "execution_count": null,
      "outputs": [
        {
          "output_type": "display_data",
          "data": {
            "text/html": [
              "<div>\n",
              "<style scoped>\n",
              "    .dataframe tbody tr th:only-of-type {\n",
              "        vertical-align: middle;\n",
              "    }\n",
              "\n",
              "    .dataframe tbody tr th {\n",
              "        vertical-align: top;\n",
              "    }\n",
              "\n",
              "    .dataframe thead th {\n",
              "        text-align: right;\n",
              "    }\n",
              "</style>\n",
              "<table border=\"1\" class=\"dataframe\">\n",
              "  <thead>\n",
              "    <tr style=\"text-align: right;\">\n",
              "      <th></th>\n",
              "      <th>Text</th>\n",
              "      <th>Type</th>\n",
              "      <th>category_id</th>\n",
              "    </tr>\n",
              "  </thead>\n",
              "  <tbody>\n",
              "    <tr>\n",
              "      <th>0</th>\n",
              "      <td>Paciente: CE 711825 - Victoria Isabella Lara M...</td>\n",
              "      <td>discarded</td>\n",
              "      <td>0</td>\n",
              "    </tr>\n",
              "    <tr>\n",
              "      <th>1</th>\n",
              "      <td>Evidentemente, no he cambiado de posición. Com...</td>\n",
              "      <td>discarded</td>\n",
              "      <td>0</td>\n",
              "    </tr>\n",
              "    <tr>\n",
              "      <th>2</th>\n",
              "      <td>Keralty\\nINVERSIONES CLINITAS S.A.\\nFecha: 18/...</td>\n",
              "      <td>important</td>\n",
              "      <td>1</td>\n",
              "    </tr>\n",
              "    <tr>\n",
              "      <th>3</th>\n",
              "      <td>Es un consejo de guerra al que acuden algunas ...</td>\n",
              "      <td>discarded</td>\n",
              "      <td>0</td>\n",
              "    </tr>\n",
              "    <tr>\n",
              "      <th>4</th>\n",
              "      <td>¿Por qué son tan complicadas las relaciones? ¿...</td>\n",
              "      <td>discarded</td>\n",
              "      <td>0</td>\n",
              "    </tr>\n",
              "    <tr>\n",
              "      <th>...</th>\n",
              "      <td>...</td>\n",
              "      <td>...</td>\n",
              "      <td>...</td>\n",
              "    </tr>\n",
              "    <tr>\n",
              "      <th>367</th>\n",
              "      <td>Keralty\\nSISTEMA DE REGISTRO CLÍNICO AVICENA\\n...</td>\n",
              "      <td>discarded</td>\n",
              "      <td>0</td>\n",
              "    </tr>\n",
              "    <tr>\n",
              "      <th>368</th>\n",
              "      <td>En este momento, en algún lugar de la gran red...</td>\n",
              "      <td>discarded</td>\n",
              "      <td>0</td>\n",
              "    </tr>\n",
              "    <tr>\n",
              "      <th>369</th>\n",
              "      <td>Rebecca y Daniel Smith, de 5 años y 11 meses, ...</td>\n",
              "      <td>discarded</td>\n",
              "      <td>0</td>\n",
              "    </tr>\n",
              "    <tr>\n",
              "      <th>370</th>\n",
              "      <td>YEIDY ALEXANDRA MANRIQUE CHINGATE\\nREIMPRESIÓN...</td>\n",
              "      <td>important</td>\n",
              "      <td>1</td>\n",
              "    </tr>\n",
              "    <tr>\n",
              "      <th>371</th>\n",
              "      <td>Semanas atrás, Amin Maalouf firmó, junto con J...</td>\n",
              "      <td>discarded</td>\n",
              "      <td>0</td>\n",
              "    </tr>\n",
              "  </tbody>\n",
              "</table>\n",
              "<p>372 rows × 3 columns</p>\n",
              "</div>"
            ],
            "text/plain": [
              "                                                  Text       Type  category_id\n",
              "0    Paciente: CE 711825 - Victoria Isabella Lara M...  discarded            0\n",
              "1    Evidentemente, no he cambiado de posición. Com...  discarded            0\n",
              "2    Keralty\\nINVERSIONES CLINITAS S.A.\\nFecha: 18/...  important            1\n",
              "3    Es un consejo de guerra al que acuden algunas ...  discarded            0\n",
              "4    ¿Por qué son tan complicadas las relaciones? ¿...  discarded            0\n",
              "..                                                 ...        ...          ...\n",
              "367  Keralty\\nSISTEMA DE REGISTRO CLÍNICO AVICENA\\n...  discarded            0\n",
              "368  En este momento, en algún lugar de la gran red...  discarded            0\n",
              "369  Rebecca y Daniel Smith, de 5 años y 11 meses, ...  discarded            0\n",
              "370  YEIDY ALEXANDRA MANRIQUE CHINGATE\\nREIMPRESIÓN...  important            1\n",
              "371  Semanas atrás, Amin Maalouf firmó, junto con J...  discarded            0\n",
              "\n",
              "[372 rows x 3 columns]"
            ]
          },
          "metadata": {
            "tags": []
          }
        },
        {
          "output_type": "display_data",
          "data": {
            "image/png": "[encoded data removed]",
            "text/plain": [
              "<Figure size 576x432 with 1 Axes>"
            ]
          },
          "metadata": {
            "tags": [],
            "needs_background": "light"
          }
        },
        {
          "output_type": "stream",
          "text": [
            "Type\n",
            "discarded    272\n",
            "important    100\n",
            "Name: Text, dtype: int64\n"
          ],
          "name": "stdout"
        }
      ]
    },
    {
      "cell_type": "code",
      "metadata": {
        "colab": {
          "base_uri": "https://localhost:8080/",
          "height": 765
        },
        "id": "nw40QLzNNUpf",
        "outputId": "cf263ebe-5ecf-462f-ba2f-1eb353d3f361"
      },
      "source": [
        "features_val = tfidf_loaded.transform(test_data.Text).toarray()\n",
        "labels_val = test_data.category_id\n",
        "features_val.shape\n",
        "\n",
        "y_pred_val = model_loaded.predict(features_val)\n",
        "\n",
        "conf_mat2 = confusion_matrix(labels_val, y_pred_val)\n",
        "fig, ax = plt.subplots(figsize=(10,10))\n",
        "sns.heatmap(conf_mat2, annot=True, fmt='d',\n",
        "            xticklabels=category_id_df.Type.values, yticklabels=category_id_df.Type.values)\n",
        "plt.ylabel('Actual')\n",
        "plt.xlabel('Predicted')\n",
        "plt.show()\n",
        "\n",
        "print(metrics.classification_report(labels_val, y_pred_val, target_names=test_data['Type'].unique()))"
      ],
      "execution_count": null,
      "outputs": [
        {
          "output_type": "display_data",
          "data": {
            "image/png": "[encoded data removed]",
            "text/plain": [
              "<Figure size 720x720 with 2 Axes>"
            ]
          },
          "metadata": {
            "tags": [],
            "needs_background": "light"
          }
        },
        {
          "output_type": "stream",
          "text": [
            "              precision    recall  f1-score   support\n",
            "\n",
            "   discarded       0.99      0.99      0.99       272\n",
            "   important       0.97      0.98      0.98       100\n",
            "\n",
            "    accuracy                           0.99       372\n",
            "   macro avg       0.98      0.98      0.98       372\n",
            "weighted avg       0.99      0.99      0.99       372\n",
            "\n"
          ],
          "name": "stdout"
        }
      ]
    }
  ]
}