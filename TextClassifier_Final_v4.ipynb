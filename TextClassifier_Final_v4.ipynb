{
  "nbformat": 4,
  "nbformat_minor": 0,
  "metadata": {
    "colab": {
      "provenance": [],
      "authorship_tag": "ABX9TyOmJD13smOqkB0xnR+/iniI",
      "include_colab_link": true
    },
    "kernelspec": {
      "name": "python3",
      "display_name": "Python 3"
    },
    "language_info": {
      "name": "python"
    }
  },
  "cells": [
    {
      "cell_type": "markdown",
      "metadata": {
        "id": "view-in-github",
        "colab_type": "text"
      },
      "source": [
        "<a href=\"https://colab.research.google.com/github/jdbj89/colab_repo/blob/main/TextClassifier_Final_v4.ipynb\" target=\"_parent\"><img src=\"https://colab.research.google.com/assets/colab-badge.svg\" alt=\"Open In Colab\"/></a>"
      ]
    },
    {
      "cell_type": "code",
      "metadata": {
        "id": "AqZEqkA0jDMz",
        "colab": {
          "base_uri": "https://localhost:8080/"
        },
        "outputId": "f051b4a9-5883-4228-fcde-786713a228e5"
      },
      "source": [
        "from google.colab import drive\n",
        "drive.mount('/content/drive/')"
      ],
      "execution_count": null,
      "outputs": [
        {
          "output_type": "stream",
          "text": [
            "Mounted at /content/drive/\n"
          ],
          "name": "stdout"
        }
      ]
    },
    {
      "cell_type": "code",
      "metadata": {
        "colab": {
          "base_uri": "https://localhost:8080/",
          "height": 402
        },
        "id": "picuhQztjVIZ",
        "outputId": "04ba17e3-773e-4547-cec2-601436218d9e"
      },
      "source": [
        "import pandas as pd\n",
        "\n",
        "dataPath=\"/content/drive/MyDrive/Data_Text/\"\n",
        "\n",
        "df0 = pd.read_csv(dataPath+\"data_0.csv\")\n",
        "df1 = pd.read_csv(dataPath+\"data_1.csv\")\n",
        "df2 = pd.read_csv(dataPath+\"data_2.csv\")\n",
        "df3 = pd.read_csv(dataPath+\"data_3.csv\")\n",
        "df4 = pd.read_csv(dataPath+\"data_4.csv\")\n",
        "\n",
        "df0.drop(df0.index[0], inplace=True) #Se borra el primer dato por que es un dato aislado y no esta dentro del rango estipulado --JD\n",
        "\n",
        "dfaux=df4[df4[\"Id Num\"]<=20800]\n",
        "\n",
        "dfTest=df4[df4[\"Id Num\"]>20800].reset_index(drop=True)\n",
        "\n",
        "dfTest=dfTest[dfTest['Type']!=\"none\"].reset_index(drop=True)\n",
        "dfTest=dfTest[dfTest['Type']!=\"history\"].reset_index(drop=True)\n",
        "\n",
        "frames = [df0, df1, df2, df3, dfaux]\n",
        "RawData = pd.concat(frames).reset_index(drop=True) #ojo importante reiniciar los indices, tuve un grave error sin eso --JD\n",
        "\n",
        "RawData.drop_duplicates(inplace = True) #En el proceso de recopilacion de la info se duplico un archivo por eso se borra --JD\n",
        "\n",
        "RawData= RawData[RawData['Type']!=\"none\"].reset_index(drop=True)\n",
        "RawData= RawData[RawData['Type']!=\"history\"].reset_index(drop=True)\n",
        "\n",
        "display(RawData)\n",
        "# RawData.head"
      ],
      "execution_count": null,
      "outputs": [
        {
          "output_type": "display_data",
          "data": {
            "text/html": [
              "<div>\n",
              "<style scoped>\n",
              "    .dataframe tbody tr th:only-of-type {\n",
              "        vertical-align: middle;\n",
              "    }\n",
              "\n",
              "    .dataframe tbody tr th {\n",
              "        vertical-align: top;\n",
              "    }\n",
              "\n",
              "    .dataframe thead th {\n",
              "        text-align: right;\n",
              "    }\n",
              "</style>\n",
              "<table border=\"1\" class=\"dataframe\">\n",
              "  <thead>\n",
              "    <tr style=\"text-align: right;\">\n",
              "      <th></th>\n",
              "      <th>Id Num</th>\n",
              "      <th>Page</th>\n",
              "      <th>Type</th>\n",
              "      <th>Text</th>\n",
              "    </tr>\n",
              "  </thead>\n",
              "  <tbody>\n",
              "    <tr>\n",
              "      <th>0</th>\n",
              "      <td>17002</td>\n",
              "      <td>1</td>\n",
              "      <td>medicine</td>\n",
              "      <td>INSTITUTO CALDENSE DE MEDICINA DEL DOLOR SAS\\n...</td>\n",
              "    </tr>\n",
              "    <tr>\n",
              "      <th>1</th>\n",
              "      <td>17003</td>\n",
              "      <td>1</td>\n",
              "      <td>procedure</td>\n",
              "      <td>Clínica\\nEl Rosario\\nEdgar Fabián Manosalva Co...</td>\n",
              "    </tr>\n",
              "    <tr>\n",
              "      <th>2</th>\n",
              "      <td>17004</td>\n",
              "      <td>1</td>\n",
              "      <td>procedure</td>\n",
              "      <td>http://186.154.88.68/UROSOFT/cache/Gs7qcT.html...</td>\n",
              "    </tr>\n",
              "    <tr>\n",
              "      <th>3</th>\n",
              "      <td>17004</td>\n",
              "      <td>2</td>\n",
              "      <td>procedure</td>\n",
              "      <td>http://186.154.88.68/UROSOFT/cache/Gs7qcT.html...</td>\n",
              "    </tr>\n",
              "    <tr>\n",
              "      <th>4</th>\n",
              "      <td>17006</td>\n",
              "      <td>1</td>\n",
              "      <td>procedure</td>\n",
              "      <td>Keralty\\nINVERSIONES CLINITAS S.A.\\nFecha: 28/...</td>\n",
              "    </tr>\n",
              "    <tr>\n",
              "      <th>...</th>\n",
              "      <td>...</td>\n",
              "      <td>...</td>\n",
              "      <td>...</td>\n",
              "      <td>...</td>\n",
              "    </tr>\n",
              "    <tr>\n",
              "      <th>3205</th>\n",
              "      <td>20794</td>\n",
              "      <td>1</td>\n",
              "      <td>procedure</td>\n",
              "      <td>cas Centro Médico\\nFECHA 7.2.2021\\nLaura Escob...</td>\n",
              "    </tr>\n",
              "    <tr>\n",
              "      <th>3206</th>\n",
              "      <td>20795</td>\n",
              "      <td>1</td>\n",
              "      <td>procedure</td>\n",
              "      <td>Dr. Alberto Quintero Molina.\\nPACIENTE: CECILI...</td>\n",
              "    </tr>\n",
              "    <tr>\n",
              "      <th>3207</th>\n",
              "      <td>20797</td>\n",
              "      <td>1</td>\n",
              "      <td>procedure</td>\n",
              "      <td>ISO 9001:2008\\nBUREAU VERITAS\\nCertification\\n...</td>\n",
              "    </tr>\n",
              "    <tr>\n",
              "      <th>3208</th>\n",
              "      <td>20798</td>\n",
              "      <td>1</td>\n",
              "      <td>medicine</td>\n",
              "      <td>Keralty\\nINVERSIONES CLINITAS S.A.\\nFecha: 17/...</td>\n",
              "    </tr>\n",
              "    <tr>\n",
              "      <th>3209</th>\n",
              "      <td>20799</td>\n",
              "      <td>1</td>\n",
              "      <td>medicine</td>\n",
              "      <td>BARRANQUILLA (DISTRITO ESPECIAL)\\nContrato Col...</td>\n",
              "    </tr>\n",
              "  </tbody>\n",
              "</table>\n",
              "<p>3210 rows × 4 columns</p>\n",
              "</div>"
            ],
            "text/plain": [
              "      Id Num  ...                                               Text\n",
              "0      17002  ...  INSTITUTO CALDENSE DE MEDICINA DEL DOLOR SAS\\n...\n",
              "1      17003  ...  Clínica\\nEl Rosario\\nEdgar Fabián Manosalva Co...\n",
              "2      17004  ...  http://186.154.88.68/UROSOFT/cache/Gs7qcT.html...\n",
              "3      17004  ...  http://186.154.88.68/UROSOFT/cache/Gs7qcT.html...\n",
              "4      17006  ...  Keralty\\nINVERSIONES CLINITAS S.A.\\nFecha: 28/...\n",
              "...      ...  ...                                                ...\n",
              "3205   20794  ...  cas Centro Médico\\nFECHA 7.2.2021\\nLaura Escob...\n",
              "3206   20795  ...  Dr. Alberto Quintero Molina.\\nPACIENTE: CECILI...\n",
              "3207   20797  ...  ISO 9001:2008\\nBUREAU VERITAS\\nCertification\\n...\n",
              "3208   20798  ...  Keralty\\nINVERSIONES CLINITAS S.A.\\nFecha: 17/...\n",
              "3209   20799  ...  BARRANQUILLA (DISTRITO ESPECIAL)\\nContrato Col...\n",
              "\n",
              "[3210 rows x 4 columns]"
            ]
          },
          "metadata": {
            "tags": []
          }
        }
      ]
    },
    {
      "cell_type": "code",
      "metadata": {
        "colab": {
          "base_uri": "https://localhost:8080/"
        },
        "id": "3BerwZHijpRI",
        "outputId": "8d7320ad-9a2a-4d90-8cd5-b7661c5616f8"
      },
      "source": [
        "import numpy as np\n",
        "import sklearn\n",
        "from io import StringIO\n",
        "\n",
        "\n",
        "RawData['category_id'] = RawData['Type'].factorize()[0]  # otorga un valor para cada tipo de dato. 0-procedure 1-history 2-medicine 3-none --JD\n",
        "\n",
        "category_id_df = RawData[['Type', 'category_id']].drop_duplicates().sort_values('category_id')\n",
        "category_to_id = dict(category_id_df.values)\n",
        "id_to_category = dict(category_id_df[['category_id', 'Type']].values)\n",
        "\n",
        "print(category_id_df)\n",
        "print(category_to_id)\n",
        "print(id_to_category)"
      ],
      "execution_count": null,
      "outputs": [
        {
          "output_type": "stream",
          "text": [
            "        Type  category_id\n",
            "0   medicine            0\n",
            "1  procedure            1\n",
            "{'medicine': 0, 'procedure': 1}\n",
            "{0: 'medicine', 1: 'procedure'}\n"
          ],
          "name": "stdout"
        }
      ]
    },
    {
      "cell_type": "code",
      "metadata": {
        "colab": {
          "base_uri": "https://localhost:8080/",
          "height": 499
        },
        "id": "kK5hCEpHj2wv",
        "outputId": "ee24babe-c2e4-4193-e5f9-9102314185b6"
      },
      "source": [
        "import matplotlib.pyplot as plt\n",
        "\n",
        "fig = plt.figure(figsize=(8,6))\n",
        "\n",
        "RawData.groupby('Type').Text.count().plot.bar(ylim=0)\n",
        "plt.show()\n",
        "\n",
        "print(RawData.groupby('Type').Text.count())"
      ],
      "execution_count": null,
      "outputs": [
        {
          "output_type": "display_data",
          "data": {
            "image/png": "[encoded data removed]",
            "text/plain": [
              "<Figure size 576x432 with 1 Axes>"
            ]
          },
          "metadata": {
            "tags": [],
            "needs_background": "light"
          }
        },
        {
          "output_type": "stream",
          "text": [
            "Type\n",
            "medicine     1539\n",
            "procedure    1671\n",
            "Name: Text, dtype: int64\n"
          ],
          "name": "stdout"
        }
      ]
    },
    {
      "cell_type": "code",
      "metadata": {
        "colab": {
          "base_uri": "https://localhost:8080/"
        },
        "id": "-y6BYRniTPUr",
        "outputId": "c83854a9-d027-489c-aade-a148d5a8d298"
      },
      "source": [
        "import nltk\n",
        "nltk.download('stopwords')"
      ],
      "execution_count": null,
      "outputs": [
        {
          "output_type": "stream",
          "text": [
            "[nltk_data] Downloading package stopwords to /root/nltk_data...\n",
            "[nltk_data]   Unzipping corpora/stopwords.zip.\n"
          ],
          "name": "stdout"
        },
        {
          "output_type": "execute_result",
          "data": {
            "text/plain": [
              "True"
            ]
          },
          "metadata": {
            "tags": []
          },
          "execution_count": 5
        }
      ]
    },
    {
      "cell_type": "code",
      "metadata": {
        "id": "V3S8EKZaj8KP",
        "colab": {
          "base_uri": "https://localhost:8080/"
        },
        "outputId": "304fdd5a-fb58-407c-f84f-f069745ca021"
      },
      "source": [
        "from sklearn.feature_extraction.text import TfidfVectorizer\n",
        "from sklearn.model_selection import train_test_split\n",
        "from sklearn.svm import LinearSVC\n",
        "from sklearn.metrics import confusion_matrix\n",
        "from nltk.corpus import stopwords\n",
        "import pickle\n",
        "\n",
        "# sublinear_df is set to True to use a logarithmic form for frequency.\n",
        "# min_df is the minimum numbers of documents a word must be present in to be kept.\n",
        "# norm is set to l2, to ensure all our feature vectors have a euclidian norm of 1.\n",
        "# ngram_range is set to (1, 2) to indicate that we want to consider both unigrams and bigrams.\n",
        "\n",
        "vectorizer = TfidfVectorizer(sublinear_tf=True, min_df=5, norm='l2', encoding='latin-1', ngram_range=(1, 2), stop_words=stopwords.words(\"spanish\"))\n",
        "#vectorizer = TfidfVectorizer(min_df=5, norm='l2', ngram_range=(1, 2))\n",
        "\n",
        "tfidf = vectorizer.fit(RawData[\"Text\"].values.astype('U'))\n",
        "\n",
        "features = vectorizer.fit_transform(RawData.Text).toarray()\n",
        "labels = RawData.category_id\n",
        "features.shape"
      ],
      "execution_count": null,
      "outputs": [
        {
          "output_type": "execute_result",
          "data": {
            "text/plain": [
              "(3210, 14715)"
            ]
          },
          "metadata": {
            "tags": []
          },
          "execution_count": 6
        }
      ]
    },
    {
      "cell_type": "code",
      "metadata": {
        "colab": {
          "base_uri": "https://localhost:8080/"
        },
        "id": "77EArzk7TXyj",
        "outputId": "60feefba-d325-4973-e199-88a238112be5"
      },
      "source": [
        "X_train, X_test, y_train, y_test, indices_train, indices_test = train_test_split(features, labels, RawData.index, test_size=0.2, random_state=0)\n",
        "\n",
        "model = LinearSVC()\n",
        "model.fit(X_train, y_train)\n"
      ],
      "execution_count": null,
      "outputs": [
        {
          "output_type": "execute_result",
          "data": {
            "text/plain": [
              "LinearSVC(C=1.0, class_weight=None, dual=True, fit_intercept=True,\n",
              "          intercept_scaling=1, loss='squared_hinge', max_iter=1000,\n",
              "          multi_class='ovr', penalty='l2', random_state=None, tol=0.0001,\n",
              "          verbose=0)"
            ]
          },
          "metadata": {
            "tags": []
          },
          "execution_count": 7
        }
      ]
    },
    {
      "cell_type": "code",
      "metadata": {
        "id": "7qcq6PsBTbdB"
      },
      "source": [
        "model_path = dataPath + \"model_v4.pickle\"\n",
        "tfidf_path = dataPath + \"vectorizer_v4.pickle\"\n",
        "pickle.dump(model, open(model_path, 'wb'))\n",
        "pickle.dump(tfidf, open(tfidf_path, \"wb\"))"
      ],
      "execution_count": null,
      "outputs": []
    },
    {
      "cell_type": "code",
      "metadata": {
        "colab": {
          "base_uri": "https://localhost:8080/"
        },
        "id": "2e2BBLT5rWG4",
        "outputId": "793c9265-9261-40da-8b18-c8496bfbfdab"
      },
      "source": [
        "tfidf_loaded = pickle.load(open(tfidf_path,'rb'))\n",
        "model_loaded = pickle.load(open(model_path,'rb'))\n",
        "pred = model_loaded.predict(tfidf_loaded.transform([\"Solicitud de procedimiento TAC abdominal paciente con cancer pulmonar\"]))[0]\n",
        "print (\"predicted class:\", id_to_category[pred])\n"
      ],
      "execution_count": null,
      "outputs": [
        {
          "output_type": "stream",
          "text": [
            "predicted class: procedure\n"
          ],
          "name": "stdout"
        }
      ]
    },
    {
      "cell_type": "code",
      "metadata": {
        "colab": {
          "base_uri": "https://localhost:8080/",
          "height": 765
        },
        "id": "Z1dO0OVBt0C5",
        "outputId": "ce6cf8dd-b9d0-4418-9292-5767de55e108"
      },
      "source": [
        "import seaborn as sns\n",
        "from sklearn import metrics\n",
        "\n",
        "y_pred = model_loaded.predict(X_test)\n",
        "conf_mat = confusion_matrix(y_test, y_pred)\n",
        "fig, ax = plt.subplots(figsize=(10,10))\n",
        "sns.heatmap(conf_mat, annot=True, fmt='d',\n",
        "            xticklabels=category_id_df.Type.values, yticklabels=category_id_df.Type.values)\n",
        "plt.ylabel('Actual')\n",
        "plt.xlabel('Predicted')\n",
        "plt.show()\n",
        "\n",
        "print(metrics.classification_report(y_test, y_pred, target_names=RawData['Type'].unique()))\n"
      ],
      "execution_count": null,
      "outputs": [
        {
          "output_type": "display_data",
          "data": {
            "image/png": "[encoded data removed]",
            "text/plain": [
              "<Figure size 720x720 with 2 Axes>"
            ]
          },
          "metadata": {
            "tags": [],
            "needs_background": "light"
          }
        },
        {
          "output_type": "stream",
          "text": [
            "              precision    recall  f1-score   support\n",
            "\n",
            "    medicine       0.95      0.93      0.94       303\n",
            "   procedure       0.94      0.96      0.95       339\n",
            "\n",
            "    accuracy                           0.94       642\n",
            "   macro avg       0.94      0.94      0.94       642\n",
            "weighted avg       0.94      0.94      0.94       642\n",
            "\n"
          ],
          "name": "stdout"
        }
      ]
    },
    {
      "cell_type": "code",
      "metadata": {
        "colab": {
          "base_uri": "https://localhost:8080/",
          "height": 1000
        },
        "id": "EySQfzgFuj2U",
        "outputId": "7a8238fa-5b6e-4348-cea7-d619c284f83b"
      },
      "source": [
        "from IPython.display import display\n",
        "\n",
        "for predicted in category_id_df.category_id:\n",
        "  for actual in category_id_df.category_id:\n",
        "    if predicted != actual and conf_mat[actual, predicted] >= 10:\n",
        "      print (\"valor actual = {}\".format(actual))\n",
        "      print (\"valor predicted = {}\".format(predicted))\n",
        "      print(\"'{}' predicted as '{}' : {} examples.\".format(id_to_category[actual], id_to_category[predicted], conf_mat[actual, predicted]))\n",
        "      display(RawData.iloc[indices_test[(y_test == actual) & (y_pred == predicted)]])\n",
        "      print('')"
      ],
      "execution_count": null,
      "outputs": [
        {
          "output_type": "stream",
          "text": [
            "valor actual = 1\n",
            "valor predicted = 0\n",
            "'procedure' predicted as 'medicine' : 14 examples.\n"
          ],
          "name": "stdout"
        },
        {
          "output_type": "display_data",
          "data": {
            "text/html": [
              "<div>\n",
              "<style scoped>\n",
              "    .dataframe tbody tr th:only-of-type {\n",
              "        vertical-align: middle;\n",
              "    }\n",
              "\n",
              "    .dataframe tbody tr th {\n",
              "        vertical-align: top;\n",
              "    }\n",
              "\n",
              "    .dataframe thead th {\n",
              "        text-align: right;\n",
              "    }\n",
              "</style>\n",
              "<table border=\"1\" class=\"dataframe\">\n",
              "  <thead>\n",
              "    <tr style=\"text-align: right;\">\n",
              "      <th></th>\n",
              "      <th>Id Num</th>\n",
              "      <th>Page</th>\n",
              "      <th>Type</th>\n",
              "      <th>Text</th>\n",
              "      <th>category_id</th>\n",
              "    </tr>\n",
              "  </thead>\n",
              "  <tbody>\n",
              "    <tr>\n",
              "      <th>582</th>\n",
              "      <td>17711</td>\n",
              "      <td>1</td>\n",
              "      <td>procedure</td>\n",
              "      <td>Mun IN\\nCONTINUA DE GLUCOSA VIERMEE STYLE\\nLa ...</td>\n",
              "      <td>1</td>\n",
              "    </tr>\n",
              "    <tr>\n",
              "      <th>2427</th>\n",
              "      <td>19809</td>\n",
              "      <td>1</td>\n",
              "      <td>procedure</td>\n",
              "      <td>Dra. Lisseth Fernanda Marin Carrillo\\nMedicina...</td>\n",
              "      <td>1</td>\n",
              "    </tr>\n",
              "    <tr>\n",
              "      <th>764</th>\n",
              "      <td>17895</td>\n",
              "      <td>1</td>\n",
              "      <td>procedure</td>\n",
              "      <td>Feb. 24 2021\\n12.\\nCar Shows\\nAMPLIACION INFOR...</td>\n",
              "      <td>1</td>\n",
              "    </tr>\n",
              "    <tr>\n",
              "      <th>2834</th>\n",
              "      <td>20380</td>\n",
              "      <td>1</td>\n",
              "      <td>procedure</td>\n",
              "      <td>Clínica\\nColsanitas\\nFECHA\\nNOMBRE:\\nisloz/202...</td>\n",
              "      <td>1</td>\n",
              "    </tr>\n",
              "    <tr>\n",
              "      <th>1846</th>\n",
              "      <td>19155</td>\n",
              "      <td>1</td>\n",
              "      <td>procedure</td>\n",
              "      <td>Para uso exclusivo de afiliados a la EPS Sanit...</td>\n",
              "      <td>1</td>\n",
              "    </tr>\n",
              "    <tr>\n",
              "      <th>2329</th>\n",
              "      <td>19716</td>\n",
              "      <td>1</td>\n",
              "      <td>procedure</td>\n",
              "      <td>... Claro\\n3:49 PM\\n@ 56%\\nBack FORMULA LOLA O...</td>\n",
              "      <td>1</td>\n",
              "    </tr>\n",
              "    <tr>\n",
              "      <th>499</th>\n",
              "      <td>17624</td>\n",
              "      <td>1</td>\n",
              "      <td>procedure</td>\n",
              "      <td>CLAUDIA VÉLE2 Campuzano\\nDermatologa\\n27\\n2021...</td>\n",
              "      <td>1</td>\n",
              "    </tr>\n",
              "    <tr>\n",
              "      <th>1526</th>\n",
              "      <td>18741</td>\n",
              "      <td>1</td>\n",
              "      <td>procedure</td>\n",
              "      <td>Colsanitas Centro Médico\\nFECHA:\\n02-\\nLowo\\n2...</td>\n",
              "      <td>1</td>\n",
              "    </tr>\n",
              "    <tr>\n",
              "      <th>3065</th>\n",
              "      <td>20647</td>\n",
              "      <td>1</td>\n",
              "      <td>procedure</td>\n",
              "      <td>Carlos Alberto Navas Cardozo Md\\nNeurólogo\\nEn...</td>\n",
              "      <td>1</td>\n",
              "    </tr>\n",
              "    <tr>\n",
              "      <th>2175</th>\n",
              "      <td>19530</td>\n",
              "      <td>1</td>\n",
              "      <td>procedure</td>\n",
              "      <td>A.M.Mulder Seite\\nALAMA MNOHOME &amp;\\nFORMULA MED...</td>\n",
              "      <td>1</td>\n",
              "    </tr>\n",
              "    <tr>\n",
              "      <th>1886</th>\n",
              "      <td>19200</td>\n",
              "      <td>1</td>\n",
              "      <td>procedure</td>\n",
              "      <td>DR. ANDRES FELIPE ARDILA HANI\\nGastroenterolog...</td>\n",
              "      <td>1</td>\n",
              "    </tr>\n",
              "    <tr>\n",
              "      <th>149</th>\n",
              "      <td>17184</td>\n",
              "      <td>1</td>\n",
              "      <td>procedure</td>\n",
              "      <td>Clínica\\nColsanitas\\n05.02.202\\nSARA\\nFECHA:\\n...</td>\n",
              "      <td>1</td>\n",
              "    </tr>\n",
              "    <tr>\n",
              "      <th>3060</th>\n",
              "      <td>20642</td>\n",
              "      <td>1</td>\n",
              "      <td>procedure</td>\n",
              "      <td>Colsanitas Centro Médico\\n2mos\\nFECHA: 17) feb...</td>\n",
              "      <td>1</td>\n",
              "    </tr>\n",
              "    <tr>\n",
              "      <th>353</th>\n",
              "      <td>17452</td>\n",
              "      <td>1</td>\n",
              "      <td>procedure</td>\n",
              "      <td>9\\nColsanitas Centro Médico\\n09|2lou\\nFECHA\\nN...</td>\n",
              "      <td>1</td>\n",
              "    </tr>\n",
              "  </tbody>\n",
              "</table>\n",
              "</div>"
            ],
            "text/plain": [
              "      Id Num  ...  category_id\n",
              "582    17711  ...            1\n",
              "2427   19809  ...            1\n",
              "764    17895  ...            1\n",
              "2834   20380  ...            1\n",
              "1846   19155  ...            1\n",
              "2329   19716  ...            1\n",
              "499    17624  ...            1\n",
              "1526   18741  ...            1\n",
              "3065   20647  ...            1\n",
              "2175   19530  ...            1\n",
              "1886   19200  ...            1\n",
              "149    17184  ...            1\n",
              "3060   20642  ...            1\n",
              "353    17452  ...            1\n",
              "\n",
              "[14 rows x 5 columns]"
            ]
          },
          "metadata": {
            "tags": []
          }
        },
        {
          "output_type": "stream",
          "text": [
            "\n",
            "valor actual = 0\n",
            "valor predicted = 1\n",
            "'medicine' predicted as 'procedure' : 22 examples.\n"
          ],
          "name": "stdout"
        },
        {
          "output_type": "display_data",
          "data": {
            "text/html": [
              "<div>\n",
              "<style scoped>\n",
              "    .dataframe tbody tr th:only-of-type {\n",
              "        vertical-align: middle;\n",
              "    }\n",
              "\n",
              "    .dataframe tbody tr th {\n",
              "        vertical-align: top;\n",
              "    }\n",
              "\n",
              "    .dataframe thead th {\n",
              "        text-align: right;\n",
              "    }\n",
              "</style>\n",
              "<table border=\"1\" class=\"dataframe\">\n",
              "  <thead>\n",
              "    <tr style=\"text-align: right;\">\n",
              "      <th></th>\n",
              "      <th>Id Num</th>\n",
              "      <th>Page</th>\n",
              "      <th>Type</th>\n",
              "      <th>Text</th>\n",
              "      <th>category_id</th>\n",
              "    </tr>\n",
              "  </thead>\n",
              "  <tbody>\n",
              "    <tr>\n",
              "      <th>1217</th>\n",
              "      <td>18382</td>\n",
              "      <td>1</td>\n",
              "      <td>medicine</td>\n",
              "      <td>solo palta autorizar\\nla espironolactona\\nporq...</td>\n",
              "      <td>0</td>\n",
              "    </tr>\n",
              "    <tr>\n",
              "      <th>1768</th>\n",
              "      <td>19040</td>\n",
              "      <td>1</td>\n",
              "      <td>medicine</td>\n",
              "      <td>C\\nSantiago\\nGuerrero\\nOrtopedia, traumatologí...</td>\n",
              "      <td>0</td>\n",
              "    </tr>\n",
              "    <tr>\n",
              "      <th>3160</th>\n",
              "      <td>20742</td>\n",
              "      <td>1</td>\n",
              "      <td>medicine</td>\n",
              "      <td>Mauricic\\nArang\\nCon Strea UAM\\nNombre\\nBLANCA...</td>\n",
              "      <td>0</td>\n",
              "    </tr>\n",
              "    <tr>\n",
              "      <th>1881</th>\n",
              "      <td>19193</td>\n",
              "      <td>1</td>\n",
              "      <td>medicine</td>\n",
              "      <td>Fecha y Hora de Solicitud\\nConsecutivo\\n13/02/...</td>\n",
              "      <td>0</td>\n",
              "    </tr>\n",
              "    <tr>\n",
              "      <th>295</th>\n",
              "      <td>17396</td>\n",
              "      <td>1</td>\n",
              "      <td>medicine</td>\n",
              "      <td>DR. RAFAEL A. LOBELO GARCIA\\nINTERNISTA-NEUMOL...</td>\n",
              "      <td>0</td>\n",
              "    </tr>\n",
              "    <tr>\n",
              "      <th>1912</th>\n",
              "      <td>19226</td>\n",
              "      <td>1</td>\n",
              "      <td>medicine</td>\n",
              "      <td>Dr. Carlos Francisco Diaz B.\\nOFTALMOLOGÍA\\nUN...</td>\n",
              "      <td>0</td>\n",
              "    </tr>\n",
              "    <tr>\n",
              "      <th>1032</th>\n",
              "      <td>18176</td>\n",
              "      <td>1</td>\n",
              "      <td>medicine</td>\n",
              "      <td>Colsanitas Centro Médico\\nFECHA:\\n10102/2001 6...</td>\n",
              "      <td>0</td>\n",
              "    </tr>\n",
              "    <tr>\n",
              "      <th>2019</th>\n",
              "      <td>19351</td>\n",
              "      <td>1</td>\n",
              "      <td>medicine</td>\n",
              "      <td>Dra. Catherine Reyes Rodríguez\\nCirugía Ortopé...</td>\n",
              "      <td>0</td>\n",
              "    </tr>\n",
              "    <tr>\n",
              "      <th>1687</th>\n",
              "      <td>18944</td>\n",
              "      <td>1</td>\n",
              "      <td>medicine</td>\n",
              "      <td>Colsanitas Centro Médico\\nFECHA:\\nFebrew\\n12/2...</td>\n",
              "      <td>0</td>\n",
              "    </tr>\n",
              "    <tr>\n",
              "      <th>1412</th>\n",
              "      <td>18597</td>\n",
              "      <td>1</td>\n",
              "      <td>medicine</td>\n",
              "      <td>DRA. SYLVIA PÁEZ MOYA\\nMEDICINA INTERNA - NEUM...</td>\n",
              "      <td>0</td>\n",
              "    </tr>\n",
              "    <tr>\n",
              "      <th>722</th>\n",
              "      <td>17854</td>\n",
              "      <td>1</td>\n",
              "      <td>medicine</td>\n",
              "      <td>71 Cauca\\nEB\\nDr. Edgar Arnulfo Belalcázar V.\\...</td>\n",
              "      <td>0</td>\n",
              "    </tr>\n",
              "    <tr>\n",
              "      <th>1817</th>\n",
              "      <td>19121</td>\n",
              "      <td>3</td>\n",
              "      <td>medicine</td>\n",
              "      <td>Dr. Orlando Murillo C.\\nMédico Cardiólogo\\nNom...</td>\n",
              "      <td>0</td>\n",
              "    </tr>\n",
              "    <tr>\n",
              "      <th>2424</th>\n",
              "      <td>19804</td>\n",
              "      <td>1</td>\n",
              "      <td>medicine</td>\n",
              "      <td>CENTRO MEDICO EXCELSIOR S.A.S.\\nExperiencia, C...</td>\n",
              "      <td>0</td>\n",
              "    </tr>\n",
              "    <tr>\n",
              "      <th>1430</th>\n",
              "      <td>18618</td>\n",
              "      <td>1</td>\n",
              "      <td>medicine</td>\n",
              "      <td>Dr. Armando Ramírez S.\\nOTORRINOLARINGOLOGO\\nU...</td>\n",
              "      <td>0</td>\n",
              "    </tr>\n",
              "    <tr>\n",
              "      <th>1454</th>\n",
              "      <td>18652</td>\n",
              "      <td>1</td>\n",
              "      <td>medicine</td>\n",
              "      <td>NEUMOCESAR SAS\\n*0100006061*\\n901153838\\nCRA 1...</td>\n",
              "      <td>0</td>\n",
              "    </tr>\n",
              "    <tr>\n",
              "      <th>2486</th>\n",
              "      <td>19884</td>\n",
              "      <td>1</td>\n",
              "      <td>medicine</td>\n",
              "      <td>Dra. Martha Luz Solano.\\nNeurologia Pediátrica...</td>\n",
              "      <td>0</td>\n",
              "    </tr>\n",
              "    <tr>\n",
              "      <th>2348</th>\n",
              "      <td>19736</td>\n",
              "      <td>1</td>\n",
              "      <td>medicine</td>\n",
              "      <td>Colsanitas Centro Médico\\nFECHA:\\n03/021 21\\nV...</td>\n",
              "      <td>0</td>\n",
              "    </tr>\n",
              "    <tr>\n",
              "      <th>1078</th>\n",
              "      <td>18220</td>\n",
              "      <td>1</td>\n",
              "      <td>medicine</td>\n",
              "      <td>DR. CARLOS MENDIVELSON JAIME\\nMEDICINA INTERNA...</td>\n",
              "      <td>0</td>\n",
              "    </tr>\n",
              "    <tr>\n",
              "      <th>547</th>\n",
              "      <td>17674</td>\n",
              "      <td>2</td>\n",
              "      <td>medicine</td>\n",
              "      <td>GILBERTO SANGUINO TORRADO\\nORTOPEDIA Y TRAUMAT...</td>\n",
              "      <td>0</td>\n",
              "    </tr>\n",
              "    <tr>\n",
              "      <th>2093</th>\n",
              "      <td>19439</td>\n",
              "      <td>1</td>\n",
              "      <td>medicine</td>\n",
              "      <td>Fecha y Hora de Solicitud:\\n15/02/2021 09:29\\n...</td>\n",
              "      <td>0</td>\n",
              "    </tr>\n",
              "    <tr>\n",
              "      <th>2706</th>\n",
              "      <td>20139</td>\n",
              "      <td>1</td>\n",
              "      <td>medicine</td>\n",
              "      <td>Dr. GUILLERMO ROJAS DUQUE\\nORTOPEDIA Y TRAUMAT...</td>\n",
              "      <td>0</td>\n",
              "    </tr>\n",
              "    <tr>\n",
              "      <th>1212</th>\n",
              "      <td>18375</td>\n",
              "      <td>1</td>\n",
              "      <td>medicine</td>\n",
              "      <td>Colsanitas Centro Médico\\nFECHA:\\nNOMBRE:\\nR\\n...</td>\n",
              "      <td>0</td>\n",
              "    </tr>\n",
              "  </tbody>\n",
              "</table>\n",
              "</div>"
            ],
            "text/plain": [
              "      Id Num  ...  category_id\n",
              "1217   18382  ...            0\n",
              "1768   19040  ...            0\n",
              "3160   20742  ...            0\n",
              "1881   19193  ...            0\n",
              "295    17396  ...            0\n",
              "1912   19226  ...            0\n",
              "1032   18176  ...            0\n",
              "2019   19351  ...            0\n",
              "1687   18944  ...            0\n",
              "1412   18597  ...            0\n",
              "722    17854  ...            0\n",
              "1817   19121  ...            0\n",
              "2424   19804  ...            0\n",
              "1430   18618  ...            0\n",
              "1454   18652  ...            0\n",
              "2486   19884  ...            0\n",
              "2348   19736  ...            0\n",
              "1078   18220  ...            0\n",
              "547    17674  ...            0\n",
              "2093   19439  ...            0\n",
              "2706   20139  ...            0\n",
              "1212   18375  ...            0\n",
              "\n",
              "[22 rows x 5 columns]"
            ]
          },
          "metadata": {
            "tags": []
          }
        },
        {
          "output_type": "stream",
          "text": [
            "\n"
          ],
          "name": "stdout"
        }
      ]
    },
    {
      "cell_type": "code",
      "metadata": {
        "colab": {
          "base_uri": "https://localhost:8080/",
          "height": 499
        },
        "id": "7cYHB3-vu1n6",
        "outputId": "2093c3a5-4e34-4831-8280-4ab95e872502"
      },
      "source": [
        "dfTest['category_id'] = dfTest['Type'].map(category_to_id)\n",
        "# display(dfTest)\n",
        "\n",
        "fig = plt.figure(figsize=(8,6))\n",
        "\n",
        "dfTest.groupby('Type').Text.count().plot.bar(ylim=0)\n",
        "plt.show()\n",
        "\n",
        "print(dfTest.groupby('Type').Text.count())"
      ],
      "execution_count": null,
      "outputs": [
        {
          "output_type": "display_data",
          "data": {
            "image/png": "[encoded data removed]",
            "text/plain": [
              "<Figure size 576x432 with 1 Axes>"
            ]
          },
          "metadata": {
            "tags": [],
            "needs_background": "light"
          }
        },
        {
          "output_type": "stream",
          "text": [
            "Type\n",
            "medicine     53\n",
            "procedure    47\n",
            "Name: Text, dtype: int64\n"
          ],
          "name": "stdout"
        }
      ]
    },
    {
      "cell_type": "code",
      "metadata": {
        "colab": {
          "base_uri": "https://localhost:8080/",
          "height": 765
        },
        "id": "7ph-iE9qvuNM",
        "outputId": "414569fa-9a1b-4e3b-98fe-329a793b6a6d"
      },
      "source": [
        "features_val = tfidf_loaded.transform(dfTest.Text).toarray()\n",
        "labels_val = dfTest.category_id\n",
        "features_val.shape\n",
        "\n",
        "y_pred_val = model_loaded.predict(features_val)\n",
        "\n",
        "conf_mat2 = confusion_matrix(labels_val, y_pred_val)\n",
        "fig, ax = plt.subplots(figsize=(10,10))\n",
        "sns.heatmap(conf_mat2, annot=True, fmt='d',\n",
        "            xticklabels=category_id_df.Type.values, yticklabels=category_id_df.Type.values)\n",
        "plt.ylabel('Actual')\n",
        "plt.xlabel('Predicted')\n",
        "plt.show()\n",
        "\n",
        "print(metrics.classification_report(labels_val, y_pred_val, target_names=dfTest['Type'].unique()))"
      ],
      "execution_count": null,
      "outputs": [
        {
          "output_type": "display_data",
          "data": {
            "image/png": "[encoded data removed]",
            "text/plain": [
              "<Figure size 720x720 with 2 Axes>"
            ]
          },
          "metadata": {
            "tags": [],
            "needs_background": "light"
          }
        },
        {
          "output_type": "stream",
          "text": [
            "              precision    recall  f1-score   support\n",
            "\n",
            "   procedure       0.98      0.98      0.98        53\n",
            "    medicine       0.98      0.98      0.98        47\n",
            "\n",
            "    accuracy                           0.98       100\n",
            "   macro avg       0.98      0.98      0.98       100\n",
            "weighted avg       0.98      0.98      0.98       100\n",
            "\n"
          ],
          "name": "stdout"
        }
      ]
    },
    {
      "cell_type": "code",
      "metadata": {
        "colab": {
          "base_uri": "https://localhost:8080/"
        },
        "id": "KbpF5Rniem3r",
        "outputId": "f1b228cf-f33f-4d94-c22a-0e8abf73a390"
      },
      "source": [
        "vectorizer = TfidfVectorizer(sublinear_tf=True, min_df=5, norm='l2', encoding='latin-1', ngram_range=(1, 2))\n",
        "#vectorizer = TfidfVectorizer(min_df=5, norm='l2', ngram_range=(1, 2))\n",
        "\n",
        "tfidf = vectorizer.fit(RawData[\"Text\"].values.astype('U'))\n",
        "\n",
        "features = vectorizer.fit_transform(RawData.Text).toarray()\n",
        "labels = RawData.category_id\n",
        "features.shape"
      ],
      "execution_count": null,
      "outputs": [
        {
          "output_type": "execute_result",
          "data": {
            "text/plain": [
              "(3210, 15973)"
            ]
          },
          "metadata": {
            "tags": []
          },
          "execution_count": 15
        }
      ]
    },
    {
      "cell_type": "code",
      "metadata": {
        "colab": {
          "base_uri": "https://localhost:8080/"
        },
        "id": "2SsKptEJezR4",
        "outputId": "2be72ec1-af49-44f9-edb1-d936cf5cc9bd"
      },
      "source": [
        "X_train, X_test, y_train, y_test, indices_train, indices_test = train_test_split(features, labels, RawData.index, test_size=0.2, random_state=0)\n",
        "\n",
        "model = LinearSVC()\n",
        "model.fit(X_train, y_train)"
      ],
      "execution_count": null,
      "outputs": [
        {
          "output_type": "execute_result",
          "data": {
            "text/plain": [
              "LinearSVC(C=1.0, class_weight=None, dual=True, fit_intercept=True,\n",
              "          intercept_scaling=1, loss='squared_hinge', max_iter=1000,\n",
              "          multi_class='ovr', penalty='l2', random_state=None, tol=0.0001,\n",
              "          verbose=0)"
            ]
          },
          "metadata": {
            "tags": []
          },
          "execution_count": 16
        }
      ]
    },
    {
      "cell_type": "code",
      "metadata": {
        "id": "Kr9l65fne4Xg"
      },
      "source": [
        "model_path = dataPath + \"model_v5.pickle\"\n",
        "tfidf_path = dataPath + \"vectorizer_v5.pickle\"\n",
        "pickle.dump(model, open(model_path, 'wb'))\n",
        "pickle.dump(tfidf, open(tfidf_path, \"wb\"))"
      ],
      "execution_count": null,
      "outputs": []
    },
    {
      "cell_type": "code",
      "metadata": {
        "colab": {
          "base_uri": "https://localhost:8080/"
        },
        "id": "ia8IU98Ue9Uh",
        "outputId": "9fbe6908-e8b0-4d10-9d16-87b57aecae0d"
      },
      "source": [
        "tfidf_loaded = pickle.load(open(tfidf_path,'rb'))\n",
        "model_loaded = pickle.load(open(model_path,'rb'))\n",
        "pred = model_loaded.predict(tfidf_loaded.transform([\"Solicitud de procedimiento TAC abdominal paciente con cancer pulmonar\"]))[0]\n",
        "print (\"predicted class:\", id_to_category[pred])"
      ],
      "execution_count": null,
      "outputs": [
        {
          "output_type": "stream",
          "text": [
            "predicted class: procedure\n"
          ],
          "name": "stdout"
        }
      ]
    },
    {
      "cell_type": "code",
      "metadata": {
        "colab": {
          "base_uri": "https://localhost:8080/",
          "height": 765
        },
        "id": "UyEdSBXYfDLp",
        "outputId": "7f61ba6d-7b83-4a09-bc13-64538069a2f8"
      },
      "source": [
        "import seaborn as sns\n",
        "from sklearn import metrics\n",
        "\n",
        "y_pred = model_loaded.predict(X_test)\n",
        "conf_mat = confusion_matrix(y_test, y_pred)\n",
        "fig, ax = plt.subplots(figsize=(10,10))\n",
        "sns.heatmap(conf_mat, annot=True, fmt='d',\n",
        "            xticklabels=category_id_df.Type.values, yticklabels=category_id_df.Type.values)\n",
        "plt.ylabel('Actual')\n",
        "plt.xlabel('Predicted')\n",
        "plt.show()\n",
        "\n",
        "print(metrics.classification_report(y_test, y_pred, target_names=RawData['Type'].unique()))"
      ],
      "execution_count": null,
      "outputs": [
        {
          "output_type": "display_data",
          "data": {
            "image/png": "[encoded data removed]",
            "text/plain": [
              "<Figure size 720x720 with 2 Axes>"
            ]
          },
          "metadata": {
            "tags": [],
            "needs_background": "light"
          }
        },
        {
          "output_type": "stream",
          "text": [
            "              precision    recall  f1-score   support\n",
            "\n",
            "    medicine       0.94      0.92      0.93       303\n",
            "   procedure       0.93      0.95      0.94       339\n",
            "\n",
            "    accuracy                           0.94       642\n",
            "   macro avg       0.94      0.94      0.94       642\n",
            "weighted avg       0.94      0.94      0.94       642\n",
            "\n"
          ],
          "name": "stdout"
        }
      ]
    },
    {
      "cell_type": "code",
      "metadata": {
        "id": "7UAoMjZefN4b",
        "colab": {
          "base_uri": "https://localhost:8080/",
          "height": 765
        },
        "outputId": "da4d32f0-d478-4654-80e0-dcec155ddf66"
      },
      "source": [
        "features_val = tfidf_loaded.transform(dfTest.Text).toarray()\n",
        "labels_val = dfTest.category_id\n",
        "features_val.shape\n",
        "\n",
        "y_pred_val = model_loaded.predict(features_val)\n",
        "\n",
        "conf_mat2 = confusion_matrix(labels_val, y_pred_val)\n",
        "fig, ax = plt.subplots(figsize=(10,10))\n",
        "sns.heatmap(conf_mat2, annot=True, fmt='d',\n",
        "            xticklabels=category_id_df.Type.values, yticklabels=category_id_df.Type.values)\n",
        "plt.ylabel('Actual')\n",
        "plt.xlabel('Predicted')\n",
        "plt.show()\n",
        "\n",
        "print(metrics.classification_report(labels_val, y_pred_val, target_names=dfTest['Type'].unique()))"
      ],
      "execution_count": null,
      "outputs": [
        {
          "output_type": "display_data",
          "data": {
            "image/png": "[encoded data removed]",
            "text/plain": [
              "<Figure size 720x720 with 2 Axes>"
            ]
          },
          "metadata": {
            "tags": [],
            "needs_background": "light"
          }
        },
        {
          "output_type": "stream",
          "text": [
            "              precision    recall  f1-score   support\n",
            "\n",
            "   procedure       0.98      1.00      0.99        53\n",
            "    medicine       1.00      0.98      0.99        47\n",
            "\n",
            "    accuracy                           0.99       100\n",
            "   macro avg       0.99      0.99      0.99       100\n",
            "weighted avg       0.99      0.99      0.99       100\n",
            "\n"
          ],
          "name": "stdout"
        }
      ]
    }
  ]
}